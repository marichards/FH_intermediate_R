{
 "cells": [
  {
   "cell_type": "markdown",
   "metadata": {},
   "source": [
    "# In class activity\n",
    "\n",
    "The JASPAR and HOMER databases both contain motif data that I've downloaded below (this will download locally if you run it). I've also shown how to split the JASPAR file, such that the transcription factors are in the final column of the output. Using text manipulation functions (e.g. `grep`, `sub`, `strsplit`), extract the transcription factors from the JASPAR and HOMER databases, respectively. Then, report back how many transcription factors are exactly duplicated between them. \n",
    "\n",
    "You may want more info on the HOMER database; it's [here](http://homer.ucsd.edu/homer/motif/motifDatabase.html)."
   ]
  },
  {
   "cell_type": "code",
   "execution_count": 18,
   "metadata": {
    "collapsed": false
   },
   "outputs": [],
   "source": [
    "# Download JASPAR data\n",
    "my.url <- \"http://jaspar.genereg.net/html/DOWNLOAD/database/MATRIX.txt\"\n",
    "download.file(url = my.url, destfile = \"./jaspar.txt\")\n",
    "\n",
    "# Download HOMER data\n",
    "my.url2 <- \"http://homer.ucsd.edu/homer/custom.motifs\"\n",
    "download.file(url = my.url2, destfile = \"./homer.txt\")\n",
    "\n",
    "jaspar <- readLines(\"./jaspar.txt\")\n",
    "homer <- readLines(\"./homer.txt\")"
   ]
  },
  {
   "cell_type": "code",
   "execution_count": 11,
   "metadata": {
    "collapsed": false
   },
   "outputs": [
    {
     "data": {
      "text/html": [
       "<ol class=list-inline>\n",
       "\t<li>'9229\\tCORE\\tMA0001\\t1\\tAGL3'</li>\n",
       "\t<li>'9230\\tCORE\\tMA0002\\t1\\tRUNX1'</li>\n",
       "\t<li>'9231\\tCORE\\tMA0003\\t1\\tTFAP2A'</li>\n",
       "\t<li>'9232\\tCORE\\tMA0004\\t1\\tArnt'</li>\n",
       "\t<li>'9233\\tCORE\\tMA0005\\t1\\tAG'</li>\n",
       "\t<li>'9234\\tCORE\\tMA0006\\t1\\tAhr::Arnt'</li>\n",
       "</ol>\n"
      ],
      "text/latex": [
       "\\begin{enumerate*}\n",
       "\\item '9229\\textbackslash{}tCORE\\textbackslash{}tMA0001\\textbackslash{}t1\\textbackslash{}tAGL3'\n",
       "\\item '9230\\textbackslash{}tCORE\\textbackslash{}tMA0002\\textbackslash{}t1\\textbackslash{}tRUNX1'\n",
       "\\item '9231\\textbackslash{}tCORE\\textbackslash{}tMA0003\\textbackslash{}t1\\textbackslash{}tTFAP2A'\n",
       "\\item '9232\\textbackslash{}tCORE\\textbackslash{}tMA0004\\textbackslash{}t1\\textbackslash{}tArnt'\n",
       "\\item '9233\\textbackslash{}tCORE\\textbackslash{}tMA0005\\textbackslash{}t1\\textbackslash{}tAG'\n",
       "\\item '9234\\textbackslash{}tCORE\\textbackslash{}tMA0006\\textbackslash{}t1\\textbackslash{}tAhr::Arnt'\n",
       "\\end{enumerate*}\n"
      ],
      "text/markdown": [
       "1. '9229\\tCORE\\tMA0001\\t1\\tAGL3'\n",
       "2. '9230\\tCORE\\tMA0002\\t1\\tRUNX1'\n",
       "3. '9231\\tCORE\\tMA0003\\t1\\tTFAP2A'\n",
       "4. '9232\\tCORE\\tMA0004\\t1\\tArnt'\n",
       "5. '9233\\tCORE\\tMA0005\\t1\\tAG'\n",
       "6. '9234\\tCORE\\tMA0006\\t1\\tAhr::Arnt'\n",
       "\n",
       "\n"
      ],
      "text/plain": [
       "[1] \"9229\\tCORE\\tMA0001\\t1\\tAGL3\"      \"9230\\tCORE\\tMA0002\\t1\\tRUNX1\"    \n",
       "[3] \"9231\\tCORE\\tMA0003\\t1\\tTFAP2A\"    \"9232\\tCORE\\tMA0004\\t1\\tArnt\"     \n",
       "[5] \"9233\\tCORE\\tMA0005\\t1\\tAG\"        \"9234\\tCORE\\tMA0006\\t1\\tAhr::Arnt\""
      ]
     },
     "metadata": {},
     "output_type": "display_data"
    }
   ],
   "source": [
    "head(jaspar)"
   ]
  },
  {
   "cell_type": "code",
   "execution_count": 12,
   "metadata": {
    "collapsed": false
   },
   "outputs": [
    {
     "data": {
      "text/html": [
       "<ol class=list-inline>\n",
       "\t<li>'&gt;ATGACTCATC\\tAP-1(bZIP)/ThioMac-PU.1-ChIP-Seq(GSE21512)/Homer\\t6.049537\\t-1.782996e+03\\t0\\t9805.3,5781.0,3085.1,2715.0,0.00e+00'</li>\n",
       "\t<li>'0.419\\t0.275\\t0.277\\t0.028'</li>\n",
       "\t<li>'0.001\\t0.001\\t0.001\\t0.997'</li>\n",
       "\t<li>'0.010\\t0.002\\t0.965\\t0.023'</li>\n",
       "\t<li>'0.984\\t0.003\\t0.001\\t0.012'</li>\n",
       "\t<li>'0.062\\t0.579\\t0.305\\t0.054'</li>\n",
       "</ol>\n"
      ],
      "text/latex": [
       "\\begin{enumerate*}\n",
       "\\item '>ATGACTCATC\\textbackslash{}tAP-1(bZIP)/ThioMac-PU.1-ChIP-Seq(GSE21512)/Homer\\textbackslash{}t6.049537\\textbackslash{}t-1.782996e+03\\textbackslash{}t0\\textbackslash{}t9805.3,5781.0,3085.1,2715.0,0.00e+00'\n",
       "\\item '0.419\\textbackslash{}t0.275\\textbackslash{}t0.277\\textbackslash{}t0.028'\n",
       "\\item '0.001\\textbackslash{}t0.001\\textbackslash{}t0.001\\textbackslash{}t0.997'\n",
       "\\item '0.010\\textbackslash{}t0.002\\textbackslash{}t0.965\\textbackslash{}t0.023'\n",
       "\\item '0.984\\textbackslash{}t0.003\\textbackslash{}t0.001\\textbackslash{}t0.012'\n",
       "\\item '0.062\\textbackslash{}t0.579\\textbackslash{}t0.305\\textbackslash{}t0.054'\n",
       "\\end{enumerate*}\n"
      ],
      "text/markdown": [
       "1. '&gt;ATGACTCATC\\tAP-1(bZIP)/ThioMac-PU.1-ChIP-Seq(GSE21512)/Homer\\t6.049537\\t-1.782996e+03\\t0\\t9805.3,5781.0,3085.1,2715.0,0.00e+00'\n",
       "2. '0.419\\t0.275\\t0.277\\t0.028'\n",
       "3. '0.001\\t0.001\\t0.001\\t0.997'\n",
       "4. '0.010\\t0.002\\t0.965\\t0.023'\n",
       "5. '0.984\\t0.003\\t0.001\\t0.012'\n",
       "6. '0.062\\t0.579\\t0.305\\t0.054'\n",
       "\n",
       "\n"
      ],
      "text/plain": [
       "[1] \">ATGACTCATC\\tAP-1(bZIP)/ThioMac-PU.1-ChIP-Seq(GSE21512)/Homer\\t6.049537\\t-1.782996e+03\\t0\\t9805.3,5781.0,3085.1,2715.0,0.00e+00\"\n",
       "[2] \"0.419\\t0.275\\t0.277\\t0.028\"                                                                                                     \n",
       "[3] \"0.001\\t0.001\\t0.001\\t0.997\"                                                                                                     \n",
       "[4] \"0.010\\t0.002\\t0.965\\t0.023\"                                                                                                     \n",
       "[5] \"0.984\\t0.003\\t0.001\\t0.012\"                                                                                                     \n",
       "[6] \"0.062\\t0.579\\t0.305\\t0.054\"                                                                                                     "
      ]
     },
     "metadata": {},
     "output_type": "display_data"
    }
   ],
   "source": [
    "head(homer)"
   ]
  },
  {
   "cell_type": "code",
   "execution_count": 13,
   "metadata": {
    "collapsed": true
   },
   "outputs": [],
   "source": [
    "jaspar.split <- strsplit(jaspar, split=\"\\t\")"
   ]
  },
  {
   "cell_type": "code",
   "execution_count": 14,
   "metadata": {
    "collapsed": false
   },
   "outputs": [
    {
     "data": {
      "text/html": [
       "<ol>\n",
       "\t<li><ol class=list-inline>\n",
       "\t<li>'9229'</li>\n",
       "\t<li>'CORE'</li>\n",
       "\t<li>'MA0001'</li>\n",
       "\t<li>'1'</li>\n",
       "\t<li>'AGL3'</li>\n",
       "</ol>\n",
       "</li>\n",
       "\t<li><ol class=list-inline>\n",
       "\t<li>'9230'</li>\n",
       "\t<li>'CORE'</li>\n",
       "\t<li>'MA0002'</li>\n",
       "\t<li>'1'</li>\n",
       "\t<li>'RUNX1'</li>\n",
       "</ol>\n",
       "</li>\n",
       "\t<li><ol class=list-inline>\n",
       "\t<li>'9231'</li>\n",
       "\t<li>'CORE'</li>\n",
       "\t<li>'MA0003'</li>\n",
       "\t<li>'1'</li>\n",
       "\t<li>'TFAP2A'</li>\n",
       "</ol>\n",
       "</li>\n",
       "\t<li><ol class=list-inline>\n",
       "\t<li>'9232'</li>\n",
       "\t<li>'CORE'</li>\n",
       "\t<li>'MA0004'</li>\n",
       "\t<li>'1'</li>\n",
       "\t<li>'Arnt'</li>\n",
       "</ol>\n",
       "</li>\n",
       "\t<li><ol class=list-inline>\n",
       "\t<li>'9233'</li>\n",
       "\t<li>'CORE'</li>\n",
       "\t<li>'MA0005'</li>\n",
       "\t<li>'1'</li>\n",
       "\t<li>'AG'</li>\n",
       "</ol>\n",
       "</li>\n",
       "\t<li><ol class=list-inline>\n",
       "\t<li>'9234'</li>\n",
       "\t<li>'CORE'</li>\n",
       "\t<li>'MA0006'</li>\n",
       "\t<li>'1'</li>\n",
       "\t<li>'Ahr::Arnt'</li>\n",
       "</ol>\n",
       "</li>\n",
       "</ol>\n"
      ],
      "text/latex": [
       "\\begin{enumerate}\n",
       "\\item \\begin{enumerate*}\n",
       "\\item '9229'\n",
       "\\item 'CORE'\n",
       "\\item 'MA0001'\n",
       "\\item '1'\n",
       "\\item 'AGL3'\n",
       "\\end{enumerate*}\n",
       "\n",
       "\\item \\begin{enumerate*}\n",
       "\\item '9230'\n",
       "\\item 'CORE'\n",
       "\\item 'MA0002'\n",
       "\\item '1'\n",
       "\\item 'RUNX1'\n",
       "\\end{enumerate*}\n",
       "\n",
       "\\item \\begin{enumerate*}\n",
       "\\item '9231'\n",
       "\\item 'CORE'\n",
       "\\item 'MA0003'\n",
       "\\item '1'\n",
       "\\item 'TFAP2A'\n",
       "\\end{enumerate*}\n",
       "\n",
       "\\item \\begin{enumerate*}\n",
       "\\item '9232'\n",
       "\\item 'CORE'\n",
       "\\item 'MA0004'\n",
       "\\item '1'\n",
       "\\item 'Arnt'\n",
       "\\end{enumerate*}\n",
       "\n",
       "\\item \\begin{enumerate*}\n",
       "\\item '9233'\n",
       "\\item 'CORE'\n",
       "\\item 'MA0005'\n",
       "\\item '1'\n",
       "\\item 'AG'\n",
       "\\end{enumerate*}\n",
       "\n",
       "\\item \\begin{enumerate*}\n",
       "\\item '9234'\n",
       "\\item 'CORE'\n",
       "\\item 'MA0006'\n",
       "\\item '1'\n",
       "\\item 'Ahr::Arnt'\n",
       "\\end{enumerate*}\n",
       "\n",
       "\\end{enumerate}\n"
      ],
      "text/markdown": [
       "1. 1. '9229'\n",
       "2. 'CORE'\n",
       "3. 'MA0001'\n",
       "4. '1'\n",
       "5. 'AGL3'\n",
       "\n",
       "\n",
       "\n",
       "2. 1. '9230'\n",
       "2. 'CORE'\n",
       "3. 'MA0002'\n",
       "4. '1'\n",
       "5. 'RUNX1'\n",
       "\n",
       "\n",
       "\n",
       "3. 1. '9231'\n",
       "2. 'CORE'\n",
       "3. 'MA0003'\n",
       "4. '1'\n",
       "5. 'TFAP2A'\n",
       "\n",
       "\n",
       "\n",
       "4. 1. '9232'\n",
       "2. 'CORE'\n",
       "3. 'MA0004'\n",
       "4. '1'\n",
       "5. 'Arnt'\n",
       "\n",
       "\n",
       "\n",
       "5. 1. '9233'\n",
       "2. 'CORE'\n",
       "3. 'MA0005'\n",
       "4. '1'\n",
       "5. 'AG'\n",
       "\n",
       "\n",
       "\n",
       "6. 1. '9234'\n",
       "2. 'CORE'\n",
       "3. 'MA0006'\n",
       "4. '1'\n",
       "5. 'Ahr::Arnt'\n",
       "\n",
       "\n",
       "\n",
       "\n",
       "\n"
      ],
      "text/plain": [
       "[[1]]\n",
       "[1] \"9229\"   \"CORE\"   \"MA0001\" \"1\"      \"AGL3\"  \n",
       "\n",
       "[[2]]\n",
       "[1] \"9230\"   \"CORE\"   \"MA0002\" \"1\"      \"RUNX1\" \n",
       "\n",
       "[[3]]\n",
       "[1] \"9231\"   \"CORE\"   \"MA0003\" \"1\"      \"TFAP2A\"\n",
       "\n",
       "[[4]]\n",
       "[1] \"9232\"   \"CORE\"   \"MA0004\" \"1\"      \"Arnt\"  \n",
       "\n",
       "[[5]]\n",
       "[1] \"9233\"   \"CORE\"   \"MA0005\" \"1\"      \"AG\"    \n",
       "\n",
       "[[6]]\n",
       "[1] \"9234\"      \"CORE\"      \"MA0006\"    \"1\"         \"Ahr::Arnt\"\n"
      ]
     },
     "metadata": {},
     "output_type": "display_data"
    }
   ],
   "source": [
    "head(jaspar.split)"
   ]
  }
 ],
 "metadata": {
  "kernelspec": {
   "display_name": "R",
   "language": "R",
   "name": "ir"
  },
  "language_info": {
   "codemirror_mode": "r",
   "file_extension": ".r",
   "mimetype": "text/x-r-source",
   "name": "R",
   "pygments_lexer": "r",
   "version": "3.4.0"
  }
 },
 "nbformat": 4,
 "nbformat_minor": 2
}
