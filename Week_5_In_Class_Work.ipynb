{
 "cells": [
  {
   "cell_type": "markdown",
   "metadata": {},
   "source": [
    "# Week 5: R Utilities, Regular Expressions, etc.\n",
    "\n",
    "The material this week focused on various \"utilities\" in R, basically just useful functions that might come in handy. We could probably fill an entire class with such functions, but I want to spend some time concentrating on a particular utility that was covered very briefly in DataCamp: regular expressions. \n",
    "\n",
    "In my opinion, regular expressions are among the most valuable tools you can master in programming because they make working with messy, unformatted data a lot more palatable. And unlike a lot of the tools you'll learn in R, regular expressions are fairly language-agnostic. For instance, I learned them in Python years ago, but the metacharacters are generally the same regardless of language, so the transition has been pretty smooth. \n",
    "\n",
    "To start with, I want to briefly remind you of some really useful regex stuff:"
   ]
  },
  {
   "cell_type": "markdown",
   "metadata": {
    "collapsed": true
   },
   "source": [
    "## Common Metacharacters in Regex\n",
    "\n",
    "In case the terminology is confusing, the \"metacharacters\" in regex refer to symbols that aren't interpreted literally. For instance, the \".\" character isn't actually interpreted as a dot; rather, in regex it means \"any character\". So the following produces a match:"
   ]
  },
  {
   "cell_type": "code",
   "execution_count": 4,
   "metadata": {
    "collapsed": false
   },
   "outputs": [
    {
     "data": {
      "text/html": [
       "TRUE"
      ],
      "text/latex": [
       "TRUE"
      ],
      "text/markdown": [
       "TRUE"
      ],
      "text/plain": [
       "[1] TRUE"
      ]
     },
     "metadata": {},
     "output_type": "display_data"
    }
   ],
   "source": [
    "my.string <- \"Hi there!\"\n",
    "grepl(\".\",my.string)"
   ]
  },
  {
   "cell_type": "markdown",
   "metadata": {},
   "source": [
    "Basically, all I did was tell R to look for any character. It'll even work on a string composed of white spaces:"
   ]
  },
  {
   "cell_type": "code",
   "execution_count": 5,
   "metadata": {
    "collapsed": false
   },
   "outputs": [
    {
     "data": {
      "text/html": [
       "TRUE"
      ],
      "text/latex": [
       "TRUE"
      ],
      "text/markdown": [
       "TRUE"
      ],
      "text/plain": [
       "[1] TRUE"
      ]
     },
     "metadata": {},
     "output_type": "display_data"
    }
   ],
   "source": [
    "my.string <- \"  \"\n",
    "grepl(\".\",my.string)"
   ]
  },
  {
   "cell_type": "markdown",
   "metadata": {},
   "source": [
    "Some metacharacters tell R what to look for, others tell R how many times to look for it, and others tell R where to look for it. So, using those 3 categories as a guide, here's some common metacharacters that prove exceedingly useful:\n",
    "\n",
    "### Character types\n",
    "\n",
    "* . matches anything; it's more useful than it sounds\n",
    "* \\\\d matches a didget, so any numeric character\n",
    "* \\\\s matches a space\n",
    "* \\\\n matches a new line character\n",
    "* \\\\w matches a word, so any alphabetical character\n",
    "\n",
    "It's also worth noting that for the \"\\\\x\" notation, a capitalized version of the same letter will match the opposite (i.e. \"\\\\X\" matches anything that isn't matched by \"\\\\x\"). Here are a couple examples to illustrate:"
   ]
  },
  {
   "cell_type": "code",
   "execution_count": 11,
   "metadata": {
    "collapsed": false
   },
   "outputs": [
    {
     "data": {
      "text/html": [
       "FALSE"
      ],
      "text/latex": [
       "FALSE"
      ],
      "text/markdown": [
       "FALSE"
      ],
      "text/plain": [
       "[1] FALSE"
      ]
     },
     "metadata": {},
     "output_type": "display_data"
    }
   ],
   "source": [
    "my.string <- \"Thishasnospaces\"\n",
    "grepl(\"\\\\s\",my.string)"
   ]
  },
  {
   "cell_type": "code",
   "execution_count": 12,
   "metadata": {
    "collapsed": false
   },
   "outputs": [
    {
     "data": {
      "text/html": [
       "TRUE"
      ],
      "text/latex": [
       "TRUE"
      ],
      "text/markdown": [
       "TRUE"
      ],
      "text/plain": [
       "[1] TRUE"
      ]
     },
     "metadata": {},
     "output_type": "display_data"
    }
   ],
   "source": [
    "grepl(\"\\\\S\",my.string)"
   ]
  },
  {
   "cell_type": "markdown",
   "metadata": {},
   "source": [
    "### Character repeats\n",
    "\n",
    "For each of these, you'll want to follow your character or expression with one of these symbols; I'll demonstrate once I've defined all of them:\n",
    "\n",
    "* ? matches 0 or 1 occurence\n",
    "* \\+ matches 1 or more occurence\n",
    "* \\* matches 0 or more occurences\n",
    "* {m,n} matches at least m, but not more than n occurences\n",
    "* {m,} matches at least m occurences\n",
    "* {,n} matches no more than n occurences\n",
    "* {m} matches exactly m occurences\n",
    "\n",
    "Here's a few examples to illustrate:"
   ]
  },
  {
   "cell_type": "code",
   "execution_count": 20,
   "metadata": {
    "collapsed": false
   },
   "outputs": [
    {
     "data": {
      "text/html": [
       "<ol class=list-inline>\n",
       "\t<li>TRUE</li>\n",
       "\t<li>FALSE</li>\n",
       "</ol>\n"
      ],
      "text/latex": [
       "\\begin{enumerate*}\n",
       "\\item TRUE\n",
       "\\item FALSE\n",
       "\\end{enumerate*}\n"
      ],
      "text/markdown": [
       "1. TRUE\n",
       "2. FALSE\n",
       "\n",
       "\n"
      ],
      "text/plain": [
       "[1]  TRUE FALSE"
      ]
     },
     "metadata": {},
     "output_type": "display_data"
    }
   ],
   "source": [
    "my.string1 <- \"My phone number is 8675309\"\n",
    "my.string2 <- \"My address is 1274 King St.\"\n",
    "my.strings <- c(my.string1, my.string2)\n",
    "\n",
    "# Match only the phone number using an exact number of didgets:\n",
    "grepl(\"\\\\d{7}\",my.strings)"
   ]
  },
  {
   "cell_type": "code",
   "execution_count": 21,
   "metadata": {
    "collapsed": false
   },
   "outputs": [
    {
     "data": {
      "text/html": [
       "<ol class=list-inline>\n",
       "\t<li>TRUE</li>\n",
       "\t<li>TRUE</li>\n",
       "</ol>\n"
      ],
      "text/latex": [
       "\\begin{enumerate*}\n",
       "\\item TRUE\n",
       "\\item TRUE\n",
       "\\end{enumerate*}\n"
      ],
      "text/markdown": [
       "1. TRUE\n",
       "2. TRUE\n",
       "\n",
       "\n"
      ],
      "text/plain": [
       "[1] TRUE TRUE"
      ]
     },
     "metadata": {},
     "output_type": "display_data"
    }
   ],
   "source": [
    "# Match both by looking for 3-8 didgets\n",
    "grepl(\"\\\\d{3,8}\",my.strings)"
   ]
  },
  {
   "cell_type": "code",
   "execution_count": 23,
   "metadata": {
    "collapsed": false
   },
   "outputs": [
    {
     "data": {
      "text/html": [
       "<ol class=list-inline>\n",
       "\t<li>TRUE</li>\n",
       "\t<li>FALSE</li>\n",
       "</ol>\n"
      ],
      "text/latex": [
       "\\begin{enumerate*}\n",
       "\\item TRUE\n",
       "\\item FALSE\n",
       "\\end{enumerate*}\n"
      ],
      "text/markdown": [
       "1. TRUE\n",
       "2. FALSE\n",
       "\n",
       "\n"
      ],
      "text/plain": [
       "[1]  TRUE FALSE"
      ]
     },
     "metadata": {},
     "output_type": "display_data"
    }
   ],
   "source": [
    "# Match only if there's at least 1 number 8\n",
    "grepl(\"8+\",my.strings)"
   ]
  },
  {
   "cell_type": "code",
   "execution_count": 24,
   "metadata": {
    "collapsed": false
   },
   "outputs": [
    {
     "data": {
      "text/html": [
       "<ol class=list-inline>\n",
       "\t<li>TRUE</li>\n",
       "\t<li>TRUE</li>\n",
       "</ol>\n"
      ],
      "text/latex": [
       "\\begin{enumerate*}\n",
       "\\item TRUE\n",
       "\\item TRUE\n",
       "\\end{enumerate*}\n"
      ],
      "text/markdown": [
       "1. TRUE\n",
       "2. TRUE\n",
       "\n",
       "\n"
      ],
      "text/plain": [
       "[1] TRUE TRUE"
      ]
     },
     "metadata": {},
     "output_type": "display_data"
    }
   ],
   "source": [
    "# Match if there's 0 or 1 number 8\n",
    "grepl(\"8?\",my.strings)"
   ]
  },
  {
   "cell_type": "markdown",
   "metadata": {},
   "source": [
    "### Character Placement\n",
    "\n",
    "Where your match occurs can be important; there's 4 metacharacters that are useful here:\n",
    "\n",
    "* ^ matches the pattern only at the start of a string\n",
    "* $ matches the pattern only at the end of a string\n",
    "* \\\\b matches the pattern at either end\n",
    "* \\\\B matches the pattern only if it's not at an end\n",
    "\n",
    "Some examples:"
   ]
  },
  {
   "cell_type": "code",
   "execution_count": 25,
   "metadata": {
    "collapsed": false
   },
   "outputs": [
    {
     "data": {
      "text/html": [
       "<ol class=list-inline>\n",
       "\t<li>TRUE</li>\n",
       "\t<li>FALSE</li>\n",
       "</ol>\n"
      ],
      "text/latex": [
       "\\begin{enumerate*}\n",
       "\\item TRUE\n",
       "\\item FALSE\n",
       "\\end{enumerate*}\n"
      ],
      "text/markdown": [
       "1. TRUE\n",
       "2. FALSE\n",
       "\n",
       "\n"
      ],
      "text/plain": [
       "[1]  TRUE FALSE"
      ]
     },
     "metadata": {},
     "output_type": "display_data"
    }
   ],
   "source": [
    "my.string1 <- 'Fred is a good friend'\n",
    "my.string2 <- 'You could say my best friend is Fred'\n",
    "my.strings <- c(my.string1, my.string2)\n",
    "# Look for Fred only at the start\n",
    "grepl(\"^Fred\",my.strings)"
   ]
  },
  {
   "cell_type": "code",
   "execution_count": 26,
   "metadata": {
    "collapsed": false
   },
   "outputs": [
    {
     "data": {
      "text/html": [
       "<ol class=list-inline>\n",
       "\t<li>FALSE</li>\n",
       "\t<li>TRUE</li>\n",
       "</ol>\n"
      ],
      "text/latex": [
       "\\begin{enumerate*}\n",
       "\\item FALSE\n",
       "\\item TRUE\n",
       "\\end{enumerate*}\n"
      ],
      "text/markdown": [
       "1. FALSE\n",
       "2. TRUE\n",
       "\n",
       "\n"
      ],
      "text/plain": [
       "[1] FALSE  TRUE"
      ]
     },
     "metadata": {},
     "output_type": "display_data"
    }
   ],
   "source": [
    "# Look for Fred only at the end\n",
    "grepl(\"Fred$\",my.strings)"
   ]
  },
  {
   "cell_type": "code",
   "execution_count": 27,
   "metadata": {
    "collapsed": false
   },
   "outputs": [
    {
     "data": {
      "text/html": [
       "<ol class=list-inline>\n",
       "\t<li>TRUE</li>\n",
       "\t<li>TRUE</li>\n",
       "</ol>\n"
      ],
      "text/latex": [
       "\\begin{enumerate*}\n",
       "\\item TRUE\n",
       "\\item TRUE\n",
       "\\end{enumerate*}\n"
      ],
      "text/markdown": [
       "1. TRUE\n",
       "2. TRUE\n",
       "\n",
       "\n"
      ],
      "text/plain": [
       "[1] TRUE TRUE"
      ]
     },
     "metadata": {},
     "output_type": "display_data"
    }
   ],
   "source": [
    "# Look for Fred at either end\n",
    "grepl(\"\\\\bFred\",my.strings)"
   ]
  },
  {
   "cell_type": "code",
   "execution_count": 28,
   "metadata": {
    "collapsed": false
   },
   "outputs": [
    {
     "data": {
      "text/html": [
       "<ol class=list-inline>\n",
       "\t<li>FALSE</li>\n",
       "\t<li>FALSE</li>\n",
       "</ol>\n"
      ],
      "text/latex": [
       "\\begin{enumerate*}\n",
       "\\item FALSE\n",
       "\\item FALSE\n",
       "\\end{enumerate*}\n"
      ],
      "text/markdown": [
       "1. FALSE\n",
       "2. FALSE\n",
       "\n",
       "\n"
      ],
      "text/plain": [
       "[1] FALSE FALSE"
      ]
     },
     "metadata": {},
     "output_type": "display_data"
    }
   ],
   "source": [
    "# Look for Fred in the middle only\n",
    "grepl(\"\\\\BFred\",my.strings)"
   ]
  },
  {
   "cell_type": "markdown",
   "metadata": {},
   "source": [
    "### A few other useful things\n",
    "\n",
    "There's a few other things that are really useful and I should point out quickly:\n",
    "\n",
    "* [something] looks for anything inside the brackets; you can use hyphens here, so \"[0-9]\" looks for any didget and is equivalent to \"\\\\d\"\n",
    "* [^something] looks for anything that is NOT inside the brackets, so the \"^\" inside square brackets effectively means \"not\"\n",
    "* (something) allows you to group patterns to be more specific; it also allows you to capture the matched pattern, which is super useful for changing things with `sub` or `gsub`\n",
    "* \\\\X pulls out matches captured by the parentheses, where X is a didget 1 or greater. So \\\\1 returns the first match, \\\\2 returns the second match, etc. \n",
    "* | acts as an \"or\" to match alternative patterns\n",
    "* & acts as an \"and\" to match multiple patterns\n",
    "\n",
    "Some quick examples:"
   ]
  },
  {
   "cell_type": "code",
   "execution_count": 36,
   "metadata": {
    "collapsed": false
   },
   "outputs": [
    {
     "data": {
      "text/html": [
       "<ol class=list-inline>\n",
       "\t<li>TRUE</li>\n",
       "\t<li>TRUE</li>\n",
       "</ol>\n"
      ],
      "text/latex": [
       "\\begin{enumerate*}\n",
       "\\item TRUE\n",
       "\\item TRUE\n",
       "\\end{enumerate*}\n"
      ],
      "text/markdown": [
       "1. TRUE\n",
       "2. TRUE\n",
       "\n",
       "\n"
      ],
      "text/plain": [
       "[1] TRUE TRUE"
      ]
     },
     "metadata": {},
     "output_type": "display_data"
    }
   ],
   "source": [
    "my.string1 <- 'sandwiches'\n",
    "my.string2 <- 'pizza'\n",
    "my.strings <- c(my.string1, my.string2)\n",
    "\n",
    "# Look for the letters \"z\" and \"w\"\n",
    "grepl(\"[zw]\", my.strings)"
   ]
  },
  {
   "cell_type": "code",
   "execution_count": 37,
   "metadata": {
    "collapsed": false
   },
   "outputs": [
    {
     "data": {
      "text/html": [
       "<ol class=list-inline>\n",
       "\t<li>TRUE</li>\n",
       "\t<li>FALSE</li>\n",
       "</ol>\n"
      ],
      "text/latex": [
       "\\begin{enumerate*}\n",
       "\\item TRUE\n",
       "\\item FALSE\n",
       "\\end{enumerate*}\n"
      ],
      "text/markdown": [
       "1. TRUE\n",
       "2. FALSE\n",
       "\n",
       "\n"
      ],
      "text/plain": [
       "[1]  TRUE FALSE"
      ]
     },
     "metadata": {},
     "output_type": "display_data"
    }
   ],
   "source": [
    "# Look for anythign but letters that appear in \"Pizza\"\n",
    "grepl(\"[^piza]\", my.strings)"
   ]
  },
  {
   "cell_type": "code",
   "execution_count": 38,
   "metadata": {
    "collapsed": false
   },
   "outputs": [
    {
     "data": {
      "text/html": [
       "<ol class=list-inline>\n",
       "\t<li>'Fred is a very good friend'</li>\n",
       "\t<li>'You could say my very best friend is Fred'</li>\n",
       "</ol>\n"
      ],
      "text/latex": [
       "\\begin{enumerate*}\n",
       "\\item 'Fred is a very good friend'\n",
       "\\item 'You could say my very best friend is Fred'\n",
       "\\end{enumerate*}\n"
      ],
      "text/markdown": [
       "1. 'Fred is a very good friend'\n",
       "2. 'You could say my very best friend is Fred'\n",
       "\n",
       "\n"
      ],
      "text/plain": [
       "[1] \"Fred is a very good friend\"               \n",
       "[2] \"You could say my very best friend is Fred\""
      ]
     },
     "metadata": {},
     "output_type": "display_data"
    }
   ],
   "source": [
    "my.string1 <- 'Fred is a good friend'\n",
    "my.string2 <- 'You could say my best friend is Fred'\n",
    "my.strings <- c(my.string1, my.string2)\n",
    "\n",
    "# If you see \"good\" or \"best\", insert \"very\" in front\n",
    "gsub(\"(good|best)\",\"very \\\\1\",my.strings)"
   ]
  },
  {
   "cell_type": "markdown",
   "metadata": {},
   "source": [
    "## An illustrative activity: parsing KEGG compounds\n",
    "\n",
    "KEGG is a common resource used for metabolic studies and as part of its resources, it contains a list of compounds and their metadata. I am interested in extracting all of the compounds from KEGG and creating a data frame where each compound record has the KEGG compound ID, a human-readable name, and the chemical formula. Here's what the top of the KEGG compounds file looks like:"
   ]
  },
  {
   "cell_type": "code",
   "execution_count": 50,
   "metadata": {
    "collapsed": false
   },
   "outputs": [
    {
     "data": {
      "text/html": [
       "<ol class=list-inline>\n",
       "\t<li><span style=white-space:pre-wrap>'ENTRY       C00001                      Compound'</span></li>\n",
       "\t<li><span style=white-space:pre-wrap>'NAME        H2O;'</span></li>\n",
       "\t<li><span style=white-space:pre-wrap>'            Water'</span></li>\n",
       "\t<li><span style=white-space:pre-wrap>'FORMULA     H2O'</span></li>\n",
       "\t<li><span style=white-space:pre-wrap>'MASS        18.0106'</span></li>\n",
       "\t<li><span style=white-space:pre-wrap>'REMARK      Same as: D00001'</span></li>\n",
       "\t<li><span style=white-space:pre-wrap>'REACTION    R00001 R00002 R00004 R00005 R00009 R00010 R00011 R00017 '</span></li>\n",
       "\t<li><span style=white-space:pre-wrap>'            R00022 R00024 R00025 R00026 R00028 R00036 R00041 R00044 '</span></li>\n",
       "\t<li><span style=white-space:pre-wrap>'            R00045 R00047 R00048 R00052 R00053 R00054 R00055 R00056 '</span></li>\n",
       "\t<li><span style=white-space:pre-wrap>'            R00057 R00058 R00059 R00060 R00061 R00068 R00069 R00070 '</span></li>\n",
       "\t<li><span style=white-space:pre-wrap>'            R00072 R00073 R00074 R00077 R00078 R00080 R00081 R00082 '</span></li>\n",
       "\t<li><span style=white-space:pre-wrap>'            R00083 R00084 R00085 R00086 R00087 R00088 R00090 R00097 '</span></li>\n",
       "\t<li><span style=white-space:pre-wrap>'            R00102 R00103 R00107 R00111 R00113 R00118 R00119 R00122 '</span></li>\n",
       "\t<li><span style=white-space:pre-wrap>'            R00123 R00125 R00128 R00131 R00132 R00135 R00138 R00143 '</span></li>\n",
       "\t<li><span style=white-space:pre-wrap>'            R00145 R00146 R00148 R00149 R00155 R00159 R00160 R00164 '</span></li>\n",
       "\t<li><span style=white-space:pre-wrap>'            R00173 R00175 R00177 R00181 R00182 R00183 R00184 R00187 '</span></li>\n",
       "\t<li><span style=white-space:pre-wrap>'            R00188 R00191 R00192 R00193 R00194 R00195 R00199 R00203 '</span></li>\n",
       "\t<li><span style=white-space:pre-wrap>'            R00205 R00208 R00213 R00218 R00227 R00243 R00245 R00248 '</span></li>\n",
       "\t<li><span style=white-space:pre-wrap>'            R00250 R00251 R00254 R00256 R00257 R00264 R00269 R00270 '</span></li>\n",
       "\t<li><span style=white-space:pre-wrap>'            R00271 R00274 R00276 R00277 R00279 R00280 R00283 R00284 '</span></li>\n",
       "</ol>\n"
      ],
      "text/latex": [
       "\\begin{enumerate*}\n",
       "\\item 'ENTRY       C00001                      Compound'\n",
       "\\item 'NAME        H2O;'\n",
       "\\item '            Water'\n",
       "\\item 'FORMULA     H2O'\n",
       "\\item 'MASS        18.0106'\n",
       "\\item 'REMARK      Same as: D00001'\n",
       "\\item 'REACTION    R00001 R00002 R00004 R00005 R00009 R00010 R00011 R00017 '\n",
       "\\item '            R00022 R00024 R00025 R00026 R00028 R00036 R00041 R00044 '\n",
       "\\item '            R00045 R00047 R00048 R00052 R00053 R00054 R00055 R00056 '\n",
       "\\item '            R00057 R00058 R00059 R00060 R00061 R00068 R00069 R00070 '\n",
       "\\item '            R00072 R00073 R00074 R00077 R00078 R00080 R00081 R00082 '\n",
       "\\item '            R00083 R00084 R00085 R00086 R00087 R00088 R00090 R00097 '\n",
       "\\item '            R00102 R00103 R00107 R00111 R00113 R00118 R00119 R00122 '\n",
       "\\item '            R00123 R00125 R00128 R00131 R00132 R00135 R00138 R00143 '\n",
       "\\item '            R00145 R00146 R00148 R00149 R00155 R00159 R00160 R00164 '\n",
       "\\item '            R00173 R00175 R00177 R00181 R00182 R00183 R00184 R00187 '\n",
       "\\item '            R00188 R00191 R00192 R00193 R00194 R00195 R00199 R00203 '\n",
       "\\item '            R00205 R00208 R00213 R00218 R00227 R00243 R00245 R00248 '\n",
       "\\item '            R00250 R00251 R00254 R00256 R00257 R00264 R00269 R00270 '\n",
       "\\item '            R00271 R00274 R00276 R00277 R00279 R00280 R00283 R00284 '\n",
       "\\end{enumerate*}\n"
      ],
      "text/markdown": [
       "1. <span style=white-space:pre-wrap>'ENTRY       C00001                      Compound'</span>\n",
       "2. <span style=white-space:pre-wrap>'NAME        H2O;'</span>\n",
       "3. <span style=white-space:pre-wrap>'            Water'</span>\n",
       "4. <span style=white-space:pre-wrap>'FORMULA     H2O'</span>\n",
       "5. <span style=white-space:pre-wrap>'MASS        18.0106'</span>\n",
       "6. <span style=white-space:pre-wrap>'REMARK      Same as: D00001'</span>\n",
       "7. <span style=white-space:pre-wrap>'REACTION    R00001 R00002 R00004 R00005 R00009 R00010 R00011 R00017 '</span>\n",
       "8. <span style=white-space:pre-wrap>'            R00022 R00024 R00025 R00026 R00028 R00036 R00041 R00044 '</span>\n",
       "9. <span style=white-space:pre-wrap>'            R00045 R00047 R00048 R00052 R00053 R00054 R00055 R00056 '</span>\n",
       "10. <span style=white-space:pre-wrap>'            R00057 R00058 R00059 R00060 R00061 R00068 R00069 R00070 '</span>\n",
       "11. <span style=white-space:pre-wrap>'            R00072 R00073 R00074 R00077 R00078 R00080 R00081 R00082 '</span>\n",
       "12. <span style=white-space:pre-wrap>'            R00083 R00084 R00085 R00086 R00087 R00088 R00090 R00097 '</span>\n",
       "13. <span style=white-space:pre-wrap>'            R00102 R00103 R00107 R00111 R00113 R00118 R00119 R00122 '</span>\n",
       "14. <span style=white-space:pre-wrap>'            R00123 R00125 R00128 R00131 R00132 R00135 R00138 R00143 '</span>\n",
       "15. <span style=white-space:pre-wrap>'            R00145 R00146 R00148 R00149 R00155 R00159 R00160 R00164 '</span>\n",
       "16. <span style=white-space:pre-wrap>'            R00173 R00175 R00177 R00181 R00182 R00183 R00184 R00187 '</span>\n",
       "17. <span style=white-space:pre-wrap>'            R00188 R00191 R00192 R00193 R00194 R00195 R00199 R00203 '</span>\n",
       "18. <span style=white-space:pre-wrap>'            R00205 R00208 R00213 R00218 R00227 R00243 R00245 R00248 '</span>\n",
       "19. <span style=white-space:pre-wrap>'            R00250 R00251 R00254 R00256 R00257 R00264 R00269 R00270 '</span>\n",
       "20. <span style=white-space:pre-wrap>'            R00271 R00274 R00276 R00277 R00279 R00280 R00283 R00284 '</span>\n",
       "\n",
       "\n"
      ],
      "text/plain": [
       " [1] \"ENTRY       C00001                      Compound\"                    \n",
       " [2] \"NAME        H2O;\"                                                    \n",
       " [3] \"            Water\"                                                   \n",
       " [4] \"FORMULA     H2O\"                                                     \n",
       " [5] \"MASS        18.0106\"                                                 \n",
       " [6] \"REMARK      Same as: D00001\"                                         \n",
       " [7] \"REACTION    R00001 R00002 R00004 R00005 R00009 R00010 R00011 R00017 \"\n",
       " [8] \"            R00022 R00024 R00025 R00026 R00028 R00036 R00041 R00044 \"\n",
       " [9] \"            R00045 R00047 R00048 R00052 R00053 R00054 R00055 R00056 \"\n",
       "[10] \"            R00057 R00058 R00059 R00060 R00061 R00068 R00069 R00070 \"\n",
       "[11] \"            R00072 R00073 R00074 R00077 R00078 R00080 R00081 R00082 \"\n",
       "[12] \"            R00083 R00084 R00085 R00086 R00087 R00088 R00090 R00097 \"\n",
       "[13] \"            R00102 R00103 R00107 R00111 R00113 R00118 R00119 R00122 \"\n",
       "[14] \"            R00123 R00125 R00128 R00131 R00132 R00135 R00138 R00143 \"\n",
       "[15] \"            R00145 R00146 R00148 R00149 R00155 R00159 R00160 R00164 \"\n",
       "[16] \"            R00173 R00175 R00177 R00181 R00182 R00183 R00184 R00187 \"\n",
       "[17] \"            R00188 R00191 R00192 R00193 R00194 R00195 R00199 R00203 \"\n",
       "[18] \"            R00205 R00208 R00213 R00218 R00227 R00243 R00245 R00248 \"\n",
       "[19] \"            R00250 R00251 R00254 R00256 R00257 R00264 R00269 R00270 \"\n",
       "[20] \"            R00271 R00274 R00276 R00277 R00279 R00280 R00283 R00284 \""
      ]
     },
     "metadata": {},
     "output_type": "display_data"
    }
   ],
   "source": [
    "readLines(\"./keggcompounds.txt\", n = 20)"
   ]
  },
  {
   "cell_type": "markdown",
   "metadata": {},
   "source": [
    "You can also take a look at the file itself to better understand its formatting. As with last week, I'll post a solution below, but I'm looking for a data frame with:\n",
    "\n",
    "* Each compound ID\n",
    "* Each corresponding name (first entry only)\n",
    "* Each corresponding formula, if applicable\n",
    "\n",
    "As with last week's task, you might find yourself having to search around for answers along the way, and I'd highly recommend writing some pseudocode to guide you. "
   ]
  },
  {
   "cell_type": "code",
   "execution_count": null,
   "metadata": {
    "collapsed": true
   },
   "outputs": [],
   "source": []
  }
 ],
 "metadata": {
  "kernelspec": {
   "display_name": "R",
   "language": "R",
   "name": "ir"
  },
  "language_info": {
   "codemirror_mode": "r",
   "file_extension": ".r",
   "mimetype": "text/x-r-source",
   "name": "R",
   "pygments_lexer": "r",
   "version": "3.4.0"
  }
 },
 "nbformat": 4,
 "nbformat_minor": 2
}
