{
 "cells": [
  {
   "cell_type": "markdown",
   "metadata": {},
   "source": [
    "# Week 5: R Utilities, Regular Expressions, etc.\n",
    "\n",
    "The material this week focused on various \"utilities\" in R, basically just useful functions that might come in handy. We could probably fill an entire class with such functions, but I want to spend some time concentrating on a particular utility that was covered very briefly in DataCamp: regular expressions. \n",
    "\n",
    "In my opinion, regular expressions are among the most valuable tools you can master in programming because they make working with messy, unformatted data a lot more palatable. And unlike a lot of the tools you'll learn in R, regular expressions are fairly language-agnostic. For instance, I learned them in Python years ago, but the metacharacters are generally the same regardless of language, so the transition has been pretty smooth. \n",
    "\n",
    "To start with, I want to briefly remind you of some really useful regex stuff:"
   ]
  },
  {
   "cell_type": "markdown",
   "metadata": {
    "collapsed": true
   },
   "source": [
    "## Common Metacharacters in Regex\n",
    "\n",
    "In case the terminology is confusing, the \"metacharacters\" in regex refer to symbols that aren't interpreted literally. For instance, the \".\" character isn't actually interpreted as a dot; rather, in regex it means \"any character\". So the following produces a match:"
   ]
  },
  {
   "cell_type": "code",
   "execution_count": 72,
   "metadata": {
    "collapsed": false
   },
   "outputs": [
    {
     "data": {
      "text/html": [
       "TRUE"
      ],
      "text/latex": [
       "TRUE"
      ],
      "text/markdown": [
       "TRUE"
      ],
      "text/plain": [
       "[1] TRUE"
      ]
     },
     "metadata": {},
     "output_type": "display_data"
    }
   ],
   "source": [
    "my.string <- \"Hi there!\"\n",
    "grepl(\".\",my.string)"
   ]
  },
  {
   "cell_type": "markdown",
   "metadata": {},
   "source": [
    "Basically, all I did was tell R to look for any character. It'll even work on a string composed of white spaces:"
   ]
  },
  {
   "cell_type": "code",
   "execution_count": 73,
   "metadata": {
    "collapsed": false
   },
   "outputs": [
    {
     "data": {
      "text/html": [
       "TRUE"
      ],
      "text/latex": [
       "TRUE"
      ],
      "text/markdown": [
       "TRUE"
      ],
      "text/plain": [
       "[1] TRUE"
      ]
     },
     "metadata": {},
     "output_type": "display_data"
    }
   ],
   "source": [
    "my.string <- \"  \"\n",
    "grepl(\".\",my.string)"
   ]
  },
  {
   "cell_type": "markdown",
   "metadata": {},
   "source": [
    "Some metacharacters tell R what to look for, others tell R how many times to look for it, and others tell R where to look for it. So, using those 3 categories as a guide, here's some common metacharacters that prove exceedingly useful:\n",
    "\n",
    "### Character types\n",
    "\n",
    "* . matches anything; it's more useful than it sounds\n",
    "* \\\\d matches a digit, so any numeric character\n",
    "* \\\\s matches a space\n",
    "* \\\\n matches a new line character\n",
    "* \\\\w matches a word, so any alphabetical character\n",
    "\n",
    "It's also worth noting that for the \"\\\\x\" notation, a capitalized version of the same letter will match the opposite (i.e. \"\\\\X\" matches anything that isn't matched by \"\\\\x\"). Here are a couple examples to illustrate:"
   ]
  },
  {
   "cell_type": "code",
   "execution_count": 74,
   "metadata": {
    "collapsed": false
   },
   "outputs": [
    {
     "data": {
      "text/html": [
       "FALSE"
      ],
      "text/latex": [
       "FALSE"
      ],
      "text/markdown": [
       "FALSE"
      ],
      "text/plain": [
       "[1] FALSE"
      ]
     },
     "metadata": {},
     "output_type": "display_data"
    }
   ],
   "source": [
    "my.string <- \"Thishasnospaces\"\n",
    "grepl(\"\\\\s\",my.string)"
   ]
  },
  {
   "cell_type": "code",
   "execution_count": 75,
   "metadata": {
    "collapsed": false
   },
   "outputs": [
    {
     "data": {
      "text/html": [
       "TRUE"
      ],
      "text/latex": [
       "TRUE"
      ],
      "text/markdown": [
       "TRUE"
      ],
      "text/plain": [
       "[1] TRUE"
      ]
     },
     "metadata": {},
     "output_type": "display_data"
    }
   ],
   "source": [
    "grepl(\"\\\\S\",my.string)"
   ]
  },
  {
   "cell_type": "markdown",
   "metadata": {},
   "source": [
    "### Character repeats\n",
    "\n",
    "For each of these, you'll want to follow your character or expression with one of these symbols; I'll demonstrate once I've defined all of them:\n",
    "\n",
    "* ? matches 0 or 1 occurence\n",
    "* \\+ matches 1 or more occurence\n",
    "* \\* matches 0 or more occurences\n",
    "* {m,n} matches at least m, but not more than n occurences\n",
    "* {m,} matches at least m occurences\n",
    "* {,n} matches no more than n occurences\n",
    "* {m} matches exactly m occurences\n",
    "\n",
    "Here's a few examples to illustrate:"
   ]
  },
  {
   "cell_type": "code",
   "execution_count": 76,
   "metadata": {
    "collapsed": false
   },
   "outputs": [
    {
     "data": {
      "text/html": [
       "<ol class=list-inline>\n",
       "\t<li>TRUE</li>\n",
       "\t<li>FALSE</li>\n",
       "</ol>\n"
      ],
      "text/latex": [
       "\\begin{enumerate*}\n",
       "\\item TRUE\n",
       "\\item FALSE\n",
       "\\end{enumerate*}\n"
      ],
      "text/markdown": [
       "1. TRUE\n",
       "2. FALSE\n",
       "\n",
       "\n"
      ],
      "text/plain": [
       "[1]  TRUE FALSE"
      ]
     },
     "metadata": {},
     "output_type": "display_data"
    }
   ],
   "source": [
    "my.string1 <- \"My phone number is 8675309\"\n",
    "my.string2 <- \"My address is 1274 King St.\"\n",
    "my.strings <- c(my.string1, my.string2)\n",
    "\n",
    "# Match only the phone number using an exact number of digits:\n",
    "grepl(\"\\\\d{7}\",my.strings)"
   ]
  },
  {
   "cell_type": "code",
   "execution_count": 77,
   "metadata": {
    "collapsed": false
   },
   "outputs": [
    {
     "data": {
      "text/html": [
       "<ol class=list-inline>\n",
       "\t<li>TRUE</li>\n",
       "\t<li>TRUE</li>\n",
       "</ol>\n"
      ],
      "text/latex": [
       "\\begin{enumerate*}\n",
       "\\item TRUE\n",
       "\\item TRUE\n",
       "\\end{enumerate*}\n"
      ],
      "text/markdown": [
       "1. TRUE\n",
       "2. TRUE\n",
       "\n",
       "\n"
      ],
      "text/plain": [
       "[1] TRUE TRUE"
      ]
     },
     "metadata": {},
     "output_type": "display_data"
    }
   ],
   "source": [
    "# Match both by looking for 3-8 digits\n",
    "grepl(\"\\\\d{3,8}\",my.strings)"
   ]
  },
  {
   "cell_type": "code",
   "execution_count": 78,
   "metadata": {
    "collapsed": false
   },
   "outputs": [
    {
     "data": {
      "text/html": [
       "<ol class=list-inline>\n",
       "\t<li>TRUE</li>\n",
       "\t<li>FALSE</li>\n",
       "</ol>\n"
      ],
      "text/latex": [
       "\\begin{enumerate*}\n",
       "\\item TRUE\n",
       "\\item FALSE\n",
       "\\end{enumerate*}\n"
      ],
      "text/markdown": [
       "1. TRUE\n",
       "2. FALSE\n",
       "\n",
       "\n"
      ],
      "text/plain": [
       "[1]  TRUE FALSE"
      ]
     },
     "metadata": {},
     "output_type": "display_data"
    }
   ],
   "source": [
    "# Match only if there's at least 1 number 8\n",
    "grepl(\"8+\",my.strings)"
   ]
  },
  {
   "cell_type": "code",
   "execution_count": 79,
   "metadata": {
    "collapsed": false
   },
   "outputs": [
    {
     "data": {
      "text/html": [
       "<ol class=list-inline>\n",
       "\t<li>TRUE</li>\n",
       "\t<li>TRUE</li>\n",
       "</ol>\n"
      ],
      "text/latex": [
       "\\begin{enumerate*}\n",
       "\\item TRUE\n",
       "\\item TRUE\n",
       "\\end{enumerate*}\n"
      ],
      "text/markdown": [
       "1. TRUE\n",
       "2. TRUE\n",
       "\n",
       "\n"
      ],
      "text/plain": [
       "[1] TRUE TRUE"
      ]
     },
     "metadata": {},
     "output_type": "display_data"
    }
   ],
   "source": [
    "# Match if there's 0 or 1 number 8\n",
    "grepl(\"8?\",my.strings)"
   ]
  },
  {
   "cell_type": "markdown",
   "metadata": {},
   "source": [
    "### Character Placement\n",
    "\n",
    "Where your match occurs can be important; there's 4 metacharacters that are useful here:\n",
    "\n",
    "* ^ matches the pattern only at the start of a string\n",
    "* $ matches the pattern only at the end of a string\n",
    "* \\\\b matches the pattern at either end\n",
    "* \\\\B matches the pattern only if it's not at an end\n",
    "\n",
    "Some examples:"
   ]
  },
  {
   "cell_type": "code",
   "execution_count": 80,
   "metadata": {
    "collapsed": false
   },
   "outputs": [
    {
     "data": {
      "text/html": [
       "<ol class=list-inline>\n",
       "\t<li>TRUE</li>\n",
       "\t<li>FALSE</li>\n",
       "</ol>\n"
      ],
      "text/latex": [
       "\\begin{enumerate*}\n",
       "\\item TRUE\n",
       "\\item FALSE\n",
       "\\end{enumerate*}\n"
      ],
      "text/markdown": [
       "1. TRUE\n",
       "2. FALSE\n",
       "\n",
       "\n"
      ],
      "text/plain": [
       "[1]  TRUE FALSE"
      ]
     },
     "metadata": {},
     "output_type": "display_data"
    }
   ],
   "source": [
    "my.string1 <- 'Fred is a good friend'\n",
    "my.string2 <- 'You could say my best friend is Fred'\n",
    "my.strings <- c(my.string1, my.string2)\n",
    "# Look for Fred only at the start\n",
    "grepl(\"^Fred\",my.strings)"
   ]
  },
  {
   "cell_type": "code",
   "execution_count": 81,
   "metadata": {
    "collapsed": false
   },
   "outputs": [
    {
     "data": {
      "text/html": [
       "<ol class=list-inline>\n",
       "\t<li>FALSE</li>\n",
       "\t<li>TRUE</li>\n",
       "</ol>\n"
      ],
      "text/latex": [
       "\\begin{enumerate*}\n",
       "\\item FALSE\n",
       "\\item TRUE\n",
       "\\end{enumerate*}\n"
      ],
      "text/markdown": [
       "1. FALSE\n",
       "2. TRUE\n",
       "\n",
       "\n"
      ],
      "text/plain": [
       "[1] FALSE  TRUE"
      ]
     },
     "metadata": {},
     "output_type": "display_data"
    }
   ],
   "source": [
    "# Look for Fred only at the end\n",
    "grepl(\"Fred$\",my.strings)"
   ]
  },
  {
   "cell_type": "code",
   "execution_count": 82,
   "metadata": {
    "collapsed": false
   },
   "outputs": [
    {
     "data": {
      "text/html": [
       "<ol class=list-inline>\n",
       "\t<li>TRUE</li>\n",
       "\t<li>TRUE</li>\n",
       "</ol>\n"
      ],
      "text/latex": [
       "\\begin{enumerate*}\n",
       "\\item TRUE\n",
       "\\item TRUE\n",
       "\\end{enumerate*}\n"
      ],
      "text/markdown": [
       "1. TRUE\n",
       "2. TRUE\n",
       "\n",
       "\n"
      ],
      "text/plain": [
       "[1] TRUE TRUE"
      ]
     },
     "metadata": {},
     "output_type": "display_data"
    }
   ],
   "source": [
    "# Look for Fred at either end\n",
    "grepl(\"\\\\bFred\",my.strings)"
   ]
  },
  {
   "cell_type": "code",
   "execution_count": 83,
   "metadata": {
    "collapsed": false
   },
   "outputs": [
    {
     "data": {
      "text/html": [
       "<ol class=list-inline>\n",
       "\t<li>FALSE</li>\n",
       "\t<li>FALSE</li>\n",
       "</ol>\n"
      ],
      "text/latex": [
       "\\begin{enumerate*}\n",
       "\\item FALSE\n",
       "\\item FALSE\n",
       "\\end{enumerate*}\n"
      ],
      "text/markdown": [
       "1. FALSE\n",
       "2. FALSE\n",
       "\n",
       "\n"
      ],
      "text/plain": [
       "[1] FALSE FALSE"
      ]
     },
     "metadata": {},
     "output_type": "display_data"
    }
   ],
   "source": [
    "# Look for Fred in the middle only\n",
    "grepl(\"\\\\BFred\",my.strings)"
   ]
  },
  {
   "cell_type": "markdown",
   "metadata": {},
   "source": [
    "### A few other useful things\n",
    "\n",
    "There's a few other things that are really useful and I should point out quickly:\n",
    "\n",
    "* [something] looks for anything inside the brackets; you can use hyphens here, so \"[0-9]\" looks for any digit and is equivalent to \"\\\\d\"\n",
    "* [^something] looks for anything that is NOT inside the brackets, so the \"^\" inside square brackets effectively means \"not\"\n",
    "* (something) allows you to group patterns to be more specific; it also allows you to capture the matched pattern, which is super useful for changing things with `sub` or `gsub`\n",
    "* \\\\X pulls out matches captured by the parentheses, where X is a digit 1 or greater. So \\\\1 returns the first match, \\\\2 returns the second match, etc. \n",
    "* | acts as an \"or\" to match alternative patterns\n",
    "* & acts as an \"and\" to match multiple patterns\n",
    "\n",
    "Some quick examples:"
   ]
  },
  {
   "cell_type": "code",
   "execution_count": 84,
   "metadata": {
    "collapsed": false
   },
   "outputs": [
    {
     "data": {
      "text/html": [
       "<ol class=list-inline>\n",
       "\t<li>TRUE</li>\n",
       "\t<li>TRUE</li>\n",
       "</ol>\n"
      ],
      "text/latex": [
       "\\begin{enumerate*}\n",
       "\\item TRUE\n",
       "\\item TRUE\n",
       "\\end{enumerate*}\n"
      ],
      "text/markdown": [
       "1. TRUE\n",
       "2. TRUE\n",
       "\n",
       "\n"
      ],
      "text/plain": [
       "[1] TRUE TRUE"
      ]
     },
     "metadata": {},
     "output_type": "display_data"
    }
   ],
   "source": [
    "my.string1 <- 'sandwiches'\n",
    "my.string2 <- 'pizza'\n",
    "my.strings <- c(my.string1, my.string2)\n",
    "\n",
    "# Look for the letters \"z\" and \"w\"\n",
    "grepl(\"[zw]\", my.strings)"
   ]
  },
  {
   "cell_type": "code",
   "execution_count": 85,
   "metadata": {
    "collapsed": false
   },
   "outputs": [
    {
     "data": {
      "text/html": [
       "<ol class=list-inline>\n",
       "\t<li>TRUE</li>\n",
       "\t<li>FALSE</li>\n",
       "</ol>\n"
      ],
      "text/latex": [
       "\\begin{enumerate*}\n",
       "\\item TRUE\n",
       "\\item FALSE\n",
       "\\end{enumerate*}\n"
      ],
      "text/markdown": [
       "1. TRUE\n",
       "2. FALSE\n",
       "\n",
       "\n"
      ],
      "text/plain": [
       "[1]  TRUE FALSE"
      ]
     },
     "metadata": {},
     "output_type": "display_data"
    }
   ],
   "source": [
    "# Look for anythign but letters that appear in \"Pizza\"\n",
    "grepl(\"[^piza]\", my.strings)"
   ]
  },
  {
   "cell_type": "code",
   "execution_count": 86,
   "metadata": {
    "collapsed": false
   },
   "outputs": [
    {
     "data": {
      "text/html": [
       "<ol class=list-inline>\n",
       "\t<li>'Fred is a very good friend'</li>\n",
       "\t<li>'You could say my very best friend is Fred'</li>\n",
       "</ol>\n"
      ],
      "text/latex": [
       "\\begin{enumerate*}\n",
       "\\item 'Fred is a very good friend'\n",
       "\\item 'You could say my very best friend is Fred'\n",
       "\\end{enumerate*}\n"
      ],
      "text/markdown": [
       "1. 'Fred is a very good friend'\n",
       "2. 'You could say my very best friend is Fred'\n",
       "\n",
       "\n"
      ],
      "text/plain": [
       "[1] \"Fred is a very good friend\"               \n",
       "[2] \"You could say my very best friend is Fred\""
      ]
     },
     "metadata": {},
     "output_type": "display_data"
    }
   ],
   "source": [
    "my.string1 <- 'Fred is a good friend'\n",
    "my.string2 <- 'You could say my best friend is Fred'\n",
    "my.strings <- c(my.string1, my.string2)\n",
    "\n",
    "# If you see \"good\" or \"best\", insert \"very\" in front\n",
    "gsub(\"(good|best)\",\"very \\\\1\",my.strings)"
   ]
  },
  {
   "cell_type": "markdown",
   "metadata": {},
   "source": [
    "## An illustrative activity: parsing KEGG compounds\n",
    "\n",
    "KEGG is a common resource used for metabolic studies and as part of its resources, it contains a list of compounds and their metadata. I am interested in extracting all of the compounds from KEGG and creating a data frame where each compound record has the KEGG compound ID and a human-readable name. Here's what the top of the KEGG compounds file looks like:"
   ]
  },
  {
   "cell_type": "code",
   "execution_count": 87,
   "metadata": {
    "collapsed": false
   },
   "outputs": [
    {
     "data": {
      "text/html": [
       "<ol class=list-inline>\n",
       "\t<li><span style=white-space:pre-wrap>'ENTRY       C00001                      Compound'</span></li>\n",
       "\t<li><span style=white-space:pre-wrap>'NAME        H2O;'</span></li>\n",
       "\t<li><span style=white-space:pre-wrap>'            Water'</span></li>\n",
       "\t<li><span style=white-space:pre-wrap>'FORMULA     H2O'</span></li>\n",
       "\t<li><span style=white-space:pre-wrap>'MASS        18.0106'</span></li>\n",
       "\t<li><span style=white-space:pre-wrap>'REMARK      Same as: D00001'</span></li>\n",
       "\t<li><span style=white-space:pre-wrap>'REACTION    R00001 R00002 R00004 R00005 R00009 R00010 R00011 R00017 '</span></li>\n",
       "\t<li><span style=white-space:pre-wrap>'            R00022 R00024 R00025 R00026 R00028 R00036 R00041 R00044 '</span></li>\n",
       "\t<li><span style=white-space:pre-wrap>'            R00045 R00047 R00048 R00052 R00053 R00054 R00055 R00056 '</span></li>\n",
       "\t<li><span style=white-space:pre-wrap>'            R00057 R00058 R00059 R00060 R00061 R00068 R00069 R00070 '</span></li>\n",
       "\t<li><span style=white-space:pre-wrap>'            R00072 R00073 R00074 R00077 R00078 R00080 R00081 R00082 '</span></li>\n",
       "\t<li><span style=white-space:pre-wrap>'            R00083 R00084 R00085 R00086 R00087 R00088 R00090 R00097 '</span></li>\n",
       "\t<li><span style=white-space:pre-wrap>'            R00102 R00103 R00107 R00111 R00113 R00118 R00119 R00122 '</span></li>\n",
       "\t<li><span style=white-space:pre-wrap>'            R00123 R00125 R00128 R00131 R00132 R00135 R00138 R00143 '</span></li>\n",
       "\t<li><span style=white-space:pre-wrap>'            R00145 R00146 R00148 R00149 R00155 R00159 R00160 R00164 '</span></li>\n",
       "\t<li><span style=white-space:pre-wrap>'            R00173 R00175 R00177 R00181 R00182 R00183 R00184 R00187 '</span></li>\n",
       "\t<li><span style=white-space:pre-wrap>'            R00188 R00191 R00192 R00193 R00194 R00195 R00199 R00203 '</span></li>\n",
       "\t<li><span style=white-space:pre-wrap>'            R00205 R00208 R00213 R00218 R00227 R00243 R00245 R00248 '</span></li>\n",
       "\t<li><span style=white-space:pre-wrap>'            R00250 R00251 R00254 R00256 R00257 R00264 R00269 R00270 '</span></li>\n",
       "\t<li><span style=white-space:pre-wrap>'            R00271 R00274 R00276 R00277 R00279 R00280 R00283 R00284 '</span></li>\n",
       "</ol>\n"
      ],
      "text/latex": [
       "\\begin{enumerate*}\n",
       "\\item 'ENTRY       C00001                      Compound'\n",
       "\\item 'NAME        H2O;'\n",
       "\\item '            Water'\n",
       "\\item 'FORMULA     H2O'\n",
       "\\item 'MASS        18.0106'\n",
       "\\item 'REMARK      Same as: D00001'\n",
       "\\item 'REACTION    R00001 R00002 R00004 R00005 R00009 R00010 R00011 R00017 '\n",
       "\\item '            R00022 R00024 R00025 R00026 R00028 R00036 R00041 R00044 '\n",
       "\\item '            R00045 R00047 R00048 R00052 R00053 R00054 R00055 R00056 '\n",
       "\\item '            R00057 R00058 R00059 R00060 R00061 R00068 R00069 R00070 '\n",
       "\\item '            R00072 R00073 R00074 R00077 R00078 R00080 R00081 R00082 '\n",
       "\\item '            R00083 R00084 R00085 R00086 R00087 R00088 R00090 R00097 '\n",
       "\\item '            R00102 R00103 R00107 R00111 R00113 R00118 R00119 R00122 '\n",
       "\\item '            R00123 R00125 R00128 R00131 R00132 R00135 R00138 R00143 '\n",
       "\\item '            R00145 R00146 R00148 R00149 R00155 R00159 R00160 R00164 '\n",
       "\\item '            R00173 R00175 R00177 R00181 R00182 R00183 R00184 R00187 '\n",
       "\\item '            R00188 R00191 R00192 R00193 R00194 R00195 R00199 R00203 '\n",
       "\\item '            R00205 R00208 R00213 R00218 R00227 R00243 R00245 R00248 '\n",
       "\\item '            R00250 R00251 R00254 R00256 R00257 R00264 R00269 R00270 '\n",
       "\\item '            R00271 R00274 R00276 R00277 R00279 R00280 R00283 R00284 '\n",
       "\\end{enumerate*}\n"
      ],
      "text/markdown": [
       "1. <span style=white-space:pre-wrap>'ENTRY       C00001                      Compound'</span>\n",
       "2. <span style=white-space:pre-wrap>'NAME        H2O;'</span>\n",
       "3. <span style=white-space:pre-wrap>'            Water'</span>\n",
       "4. <span style=white-space:pre-wrap>'FORMULA     H2O'</span>\n",
       "5. <span style=white-space:pre-wrap>'MASS        18.0106'</span>\n",
       "6. <span style=white-space:pre-wrap>'REMARK      Same as: D00001'</span>\n",
       "7. <span style=white-space:pre-wrap>'REACTION    R00001 R00002 R00004 R00005 R00009 R00010 R00011 R00017 '</span>\n",
       "8. <span style=white-space:pre-wrap>'            R00022 R00024 R00025 R00026 R00028 R00036 R00041 R00044 '</span>\n",
       "9. <span style=white-space:pre-wrap>'            R00045 R00047 R00048 R00052 R00053 R00054 R00055 R00056 '</span>\n",
       "10. <span style=white-space:pre-wrap>'            R00057 R00058 R00059 R00060 R00061 R00068 R00069 R00070 '</span>\n",
       "11. <span style=white-space:pre-wrap>'            R00072 R00073 R00074 R00077 R00078 R00080 R00081 R00082 '</span>\n",
       "12. <span style=white-space:pre-wrap>'            R00083 R00084 R00085 R00086 R00087 R00088 R00090 R00097 '</span>\n",
       "13. <span style=white-space:pre-wrap>'            R00102 R00103 R00107 R00111 R00113 R00118 R00119 R00122 '</span>\n",
       "14. <span style=white-space:pre-wrap>'            R00123 R00125 R00128 R00131 R00132 R00135 R00138 R00143 '</span>\n",
       "15. <span style=white-space:pre-wrap>'            R00145 R00146 R00148 R00149 R00155 R00159 R00160 R00164 '</span>\n",
       "16. <span style=white-space:pre-wrap>'            R00173 R00175 R00177 R00181 R00182 R00183 R00184 R00187 '</span>\n",
       "17. <span style=white-space:pre-wrap>'            R00188 R00191 R00192 R00193 R00194 R00195 R00199 R00203 '</span>\n",
       "18. <span style=white-space:pre-wrap>'            R00205 R00208 R00213 R00218 R00227 R00243 R00245 R00248 '</span>\n",
       "19. <span style=white-space:pre-wrap>'            R00250 R00251 R00254 R00256 R00257 R00264 R00269 R00270 '</span>\n",
       "20. <span style=white-space:pre-wrap>'            R00271 R00274 R00276 R00277 R00279 R00280 R00283 R00284 '</span>\n",
       "\n",
       "\n"
      ],
      "text/plain": [
       " [1] \"ENTRY       C00001                      Compound\"                    \n",
       " [2] \"NAME        H2O;\"                                                    \n",
       " [3] \"            Water\"                                                   \n",
       " [4] \"FORMULA     H2O\"                                                     \n",
       " [5] \"MASS        18.0106\"                                                 \n",
       " [6] \"REMARK      Same as: D00001\"                                         \n",
       " [7] \"REACTION    R00001 R00002 R00004 R00005 R00009 R00010 R00011 R00017 \"\n",
       " [8] \"            R00022 R00024 R00025 R00026 R00028 R00036 R00041 R00044 \"\n",
       " [9] \"            R00045 R00047 R00048 R00052 R00053 R00054 R00055 R00056 \"\n",
       "[10] \"            R00057 R00058 R00059 R00060 R00061 R00068 R00069 R00070 \"\n",
       "[11] \"            R00072 R00073 R00074 R00077 R00078 R00080 R00081 R00082 \"\n",
       "[12] \"            R00083 R00084 R00085 R00086 R00087 R00088 R00090 R00097 \"\n",
       "[13] \"            R00102 R00103 R00107 R00111 R00113 R00118 R00119 R00122 \"\n",
       "[14] \"            R00123 R00125 R00128 R00131 R00132 R00135 R00138 R00143 \"\n",
       "[15] \"            R00145 R00146 R00148 R00149 R00155 R00159 R00160 R00164 \"\n",
       "[16] \"            R00173 R00175 R00177 R00181 R00182 R00183 R00184 R00187 \"\n",
       "[17] \"            R00188 R00191 R00192 R00193 R00194 R00195 R00199 R00203 \"\n",
       "[18] \"            R00205 R00208 R00213 R00218 R00227 R00243 R00245 R00248 \"\n",
       "[19] \"            R00250 R00251 R00254 R00256 R00257 R00264 R00269 R00270 \"\n",
       "[20] \"            R00271 R00274 R00276 R00277 R00279 R00280 R00283 R00284 \""
      ]
     },
     "metadata": {},
     "output_type": "display_data"
    }
   ],
   "source": [
    "readLines(\"./keggcompounds.txt\", n = 20)"
   ]
  },
  {
   "cell_type": "markdown",
   "metadata": {},
   "source": [
    "You can also take a look at the file itself to better understand its formatting. As with last week, I'll post a solution below, but I'm looking for a data frame with:\n",
    "\n",
    "* Each compound ID\n",
    "* Each corresponding name (first entry only)\n",
    "\n",
    "As with last week's task, you might find yourself having to search around for answers along the way, and I'd highly recommend writing some pseudocode to guide you. "
   ]
  },
  {
   "cell_type": "markdown",
   "metadata": {
    "collapsed": true
   },
   "source": [
    "## My solution\n",
    "\n",
    "Here's how I solved the problem:\n",
    "\n",
    "First I read in the file and took a look at its length. "
   ]
  },
  {
   "cell_type": "code",
   "execution_count": 88,
   "metadata": {
    "collapsed": false
   },
   "outputs": [
    {
     "data": {
      "text/html": [
       "1018679"
      ],
      "text/latex": [
       "1018679"
      ],
      "text/markdown": [
       "1018679"
      ],
      "text/plain": [
       "[1] 1018679"
      ]
     },
     "metadata": {},
     "output_type": "display_data"
    }
   ],
   "source": [
    "kegg <- readLines(\"./keggcompounds.txt\")\n",
    "length(kegg)"
   ]
  },
  {
   "cell_type": "markdown",
   "metadata": {},
   "source": [
    "Looking at the top of the file, as I did above, the IDs seem to be preceeded by \"ENTRY\" and the names are preceeded by \"NAME\". So I'll pull out the two things initially like that, saving the strings themselves:"
   ]
  },
  {
   "cell_type": "code",
   "execution_count": 89,
   "metadata": {
    "collapsed": false
   },
   "outputs": [
    {
     "data": {
      "text/html": [
       "17548"
      ],
      "text/latex": [
       "17548"
      ],
      "text/markdown": [
       "17548"
      ],
      "text/plain": [
       "[1] 17548"
      ]
     },
     "metadata": {},
     "output_type": "display_data"
    }
   ],
   "source": [
    "ids <- grep(\"ENTRY\", kegg, value = TRUE)\n",
    "length(ids)"
   ]
  },
  {
   "cell_type": "code",
   "execution_count": 90,
   "metadata": {
    "collapsed": false
   },
   "outputs": [
    {
     "data": {
      "text/html": [
       "17548"
      ],
      "text/latex": [
       "17548"
      ],
      "text/markdown": [
       "17548"
      ],
      "text/plain": [
       "[1] 17548"
      ]
     },
     "metadata": {},
     "output_type": "display_data"
    }
   ],
   "source": [
    "names <- grep(\"NAME \", kegg, value = TRUE)\n",
    "length(names)"
   ]
  },
  {
   "cell_type": "markdown",
   "metadata": {},
   "source": [
    "Good, there's an equal number of entries. Now I want to look at what the values I grab actually contain; as you'll see, there's some rather unsavory information there. "
   ]
  },
  {
   "cell_type": "code",
   "execution_count": 91,
   "metadata": {
    "collapsed": false
   },
   "outputs": [
    {
     "data": {
      "text/html": [
       "<span style=white-space:pre-wrap>'ENTRY       C00001                      Compound'</span>"
      ],
      "text/latex": [
       "'ENTRY       C00001                      Compound'"
      ],
      "text/markdown": [
       "<span style=white-space:pre-wrap>'ENTRY       C00001                      Compound'</span>"
      ],
      "text/plain": [
       "[1] \"ENTRY       C00001                      Compound\""
      ]
     },
     "metadata": {},
     "output_type": "display_data"
    },
    {
     "data": {
      "text/html": [
       "<span style=white-space:pre-wrap>'NAME        H2O;'</span>"
      ],
      "text/latex": [
       "'NAME        H2O;'"
      ],
      "text/markdown": [
       "<span style=white-space:pre-wrap>'NAME        H2O;'</span>"
      ],
      "text/plain": [
       "[1] \"NAME        H2O;\""
      ]
     },
     "metadata": {},
     "output_type": "display_data"
    }
   ],
   "source": [
    "ids[1]\n",
    "names[1]"
   ]
  },
  {
   "cell_type": "markdown",
   "metadata": {},
   "source": [
    "I'm particularly annoyed by the semi-colons at the end of each name. But perhaps they all have them? I'll check:"
   ]
  },
  {
   "cell_type": "code",
   "execution_count": 92,
   "metadata": {
    "collapsed": false
   },
   "outputs": [
    {
     "data": {
      "text/html": [
       "6115"
      ],
      "text/latex": [
       "6115"
      ],
      "text/markdown": [
       "6115"
      ],
      "text/plain": [
       "[1] 6115"
      ]
     },
     "metadata": {},
     "output_type": "display_data"
    }
   ],
   "source": [
    "sum(grepl(\";\",names))"
   ]
  },
  {
   "cell_type": "markdown",
   "metadata": {},
   "source": [
    "Nope; well, I'll just have to be more creative then. Let's start with IDs; these are actually pretty straightforward because they're all \"C\" followed by 5 digits. I'll pull them out with a quick gsub, where I effectively strip off everything else:"
   ]
  },
  {
   "cell_type": "code",
   "execution_count": 93,
   "metadata": {
    "collapsed": false
   },
   "outputs": [
    {
     "data": {
      "text/html": [
       "<ol class=list-inline>\n",
       "\t<li>'C00001'</li>\n",
       "\t<li>'C00002'</li>\n",
       "\t<li>'C00003'</li>\n",
       "\t<li>'C00004'</li>\n",
       "\t<li>'C00005'</li>\n",
       "\t<li>'C00006'</li>\n",
       "</ol>\n"
      ],
      "text/latex": [
       "\\begin{enumerate*}\n",
       "\\item 'C00001'\n",
       "\\item 'C00002'\n",
       "\\item 'C00003'\n",
       "\\item 'C00004'\n",
       "\\item 'C00005'\n",
       "\\item 'C00006'\n",
       "\\end{enumerate*}\n"
      ],
      "text/markdown": [
       "1. 'C00001'\n",
       "2. 'C00002'\n",
       "3. 'C00003'\n",
       "4. 'C00004'\n",
       "5. 'C00005'\n",
       "6. 'C00006'\n",
       "\n",
       "\n"
      ],
      "text/plain": [
       "[1] \"C00001\" \"C00002\" \"C00003\" \"C00004\" \"C00005\" \"C00006\""
      ]
     },
     "metadata": {},
     "output_type": "display_data"
    }
   ],
   "source": [
    "# This should finsh the IDs:\n",
    "ids <- gsub(\".*(C\\\\d{5}).*\",\"\\\\1\", ids)\n",
    "head(ids)"
   ]
  },
  {
   "cell_type": "markdown",
   "metadata": {},
   "source": [
    "Names are trickier because they're not standard. So what I'll do instead of looking for a specific pattern is use a more general one. In this case, I notice that my names are all preceeded by \"NAME\" and some whitespace, so I'll match that, but then grab the set of non-whitespace characters that follow it:"
   ]
  },
  {
   "cell_type": "code",
   "execution_count": 94,
   "metadata": {
    "collapsed": false
   },
   "outputs": [
    {
     "data": {
      "text/html": [
       "<ol class=list-inline>\n",
       "\t<li>'H2O;'</li>\n",
       "\t<li>'ATP;'</li>\n",
       "\t<li>'NAD+;'</li>\n",
       "\t<li>'NADH;'</li>\n",
       "\t<li>'NADPH;'</li>\n",
       "\t<li>'NADP+;'</li>\n",
       "</ol>\n"
      ],
      "text/latex": [
       "\\begin{enumerate*}\n",
       "\\item 'H2O;'\n",
       "\\item 'ATP;'\n",
       "\\item 'NAD+;'\n",
       "\\item 'NADH;'\n",
       "\\item 'NADPH;'\n",
       "\\item 'NADP+;'\n",
       "\\end{enumerate*}\n"
      ],
      "text/markdown": [
       "1. 'H2O;'\n",
       "2. 'ATP;'\n",
       "3. 'NAD+;'\n",
       "4. 'NADH;'\n",
       "5. 'NADPH;'\n",
       "6. 'NADP+;'\n",
       "\n",
       "\n"
      ],
      "text/plain": [
       "[1] \"H2O;\"   \"ATP;\"   \"NAD+;\"  \"NADH;\"  \"NADPH;\" \"NADP+;\""
      ]
     },
     "metadata": {},
     "output_type": "display_data"
    }
   ],
   "source": [
    "# Extract the name from each one\n",
    "short.names <- gsub(\"NAME\\\\s+(\\\\S+).*\",\"\\\\1\",names)\n",
    "head(short.names)"
   ]
  },
  {
   "cell_type": "markdown",
   "metadata": {},
   "source": [
    "Now it's just a matter of those pesky semi-colons. There's an off chance there might be some of them inside of compound names, so I'll remove only the ones on the end, just in case:"
   ]
  },
  {
   "cell_type": "code",
   "execution_count": 95,
   "metadata": {
    "collapsed": true
   },
   "outputs": [],
   "source": [
    "short.names <- gsub(\";$\",\"\",short.names)"
   ]
  },
  {
   "cell_type": "markdown",
   "metadata": {},
   "source": [
    "Now all that's left to do is create my data frame, which I'll save somewhere for later use. I'll show the top and bottom of it just to demonstrate that it has the right stuff:"
   ]
  },
  {
   "cell_type": "code",
   "execution_count": 96,
   "metadata": {
    "collapsed": false
   },
   "outputs": [
    {
     "data": {
      "text/html": [
       "<table>\n",
       "<thead><tr><th scope=col>id</th><th scope=col>name</th></tr></thead>\n",
       "<tbody>\n",
       "\t<tr><td>C00001                   </td><td>H2O                      </td></tr>\n",
       "\t<tr><td>C00002                   </td><td>ATP                      </td></tr>\n",
       "\t<tr><td>C00003                   </td><td>NAD+                     </td></tr>\n",
       "\t<tr><td>C00004                   </td><td>NADH                     </td></tr>\n",
       "\t<tr><td>C00005                   </td><td>NADPH                    </td></tr>\n",
       "\t<tr><td>C00006                   </td><td>NADP+                    </td></tr>\n",
       "\t<tr><td>C00007                   </td><td>Oxygen                   </td></tr>\n",
       "\t<tr><td>C00008                   </td><td>ADP                      </td></tr>\n",
       "\t<tr><td>C00009                   </td><td>Orthophosphate           </td></tr>\n",
       "\t<tr><td>C00010                   </td><td>CoA                      </td></tr>\n",
       "\t<tr><td>C00011                   </td><td>CO2                      </td></tr>\n",
       "\t<tr><td>C00012                   </td><td>Peptide                  </td></tr>\n",
       "\t<tr><td>C00013                   </td><td>Diphosphate              </td></tr>\n",
       "\t<tr><td>C00014                   </td><td>NH3                      </td></tr>\n",
       "\t<tr><td>C00015                   </td><td>UDP                      </td></tr>\n",
       "\t<tr><td>C00016                   </td><td>FAD                      </td></tr>\n",
       "\t<tr><td>C00017                   </td><td>Protein                  </td></tr>\n",
       "\t<tr><td>C00018                   </td><td>Pyridoxal                </td></tr>\n",
       "\t<tr><td>C00019                   </td><td>S-Adenosyl-L-methionine  </td></tr>\n",
       "\t<tr><td>C00020                   </td><td>AMP                      </td></tr>\n",
       "\t<tr><td>C00021                   </td><td>S-Adenosyl-L-homocysteine</td></tr>\n",
       "\t<tr><td>C00022                   </td><td>Pyruvate                 </td></tr>\n",
       "\t<tr><td>C00023                   </td><td>Iron                     </td></tr>\n",
       "\t<tr><td>C00024                   </td><td>Acetyl-CoA               </td></tr>\n",
       "\t<tr><td>C00025                   </td><td>L-Glutamate              </td></tr>\n",
       "\t<tr><td>C00026                   </td><td>2-Oxoglutarate           </td></tr>\n",
       "\t<tr><td>C00027                   </td><td>Hydrogen                 </td></tr>\n",
       "\t<tr><td>C00028                   </td><td>Acceptor                 </td></tr>\n",
       "\t<tr><td>C00029                   </td><td>UDP-glucose              </td></tr>\n",
       "\t<tr><td>C00030                   </td><td>Reduced                  </td></tr>\n",
       "\t<tr><td>⋮</td><td>⋮</td></tr>\n",
       "\t<tr><td>C00175                       </td><td>Cobalt                       </td></tr>\n",
       "\t<tr><td>C00176                       </td><td>Flavin                       </td></tr>\n",
       "\t<tr><td>C00177                       </td><td>Cyanide                      </td></tr>\n",
       "\t<tr><td>C00178                       </td><td>Thymine                      </td></tr>\n",
       "\t<tr><td>C00179                       </td><td>Agmatine                     </td></tr>\n",
       "\t<tr><td>C00180                       </td><td>Benzoate                     </td></tr>\n",
       "\t<tr><td>C00181                       </td><td>D-Xylose                     </td></tr>\n",
       "\t<tr><td>C00182                       </td><td>Glycogen                     </td></tr>\n",
       "\t<tr><td>C00183                       </td><td>L-Valine                     </td></tr>\n",
       "\t<tr><td>C00184                       </td><td>Glycerone                    </td></tr>\n",
       "\t<tr><td>C00185                       </td><td>Cellobiose                   </td></tr>\n",
       "\t<tr><td>C00186                       </td><td>(S)-Lactate                  </td></tr>\n",
       "\t<tr><td>C00187                       </td><td>Cholesterol                  </td></tr>\n",
       "\t<tr><td>C00188                       </td><td>L-Threonine                  </td></tr>\n",
       "\t<tr><td>C00189                       </td><td>Ethanolamine                 </td></tr>\n",
       "\t<tr><td>C00190                       </td><td>UDP-D-xylose                 </td></tr>\n",
       "\t<tr><td>C00191                       </td><td>D-Glucuronate                </td></tr>\n",
       "\t<tr><td>C00192                       </td><td>Hydroxylamine                </td></tr>\n",
       "\t<tr><td>C00193                       </td><td>Aromatic                     </td></tr>\n",
       "\t<tr><td>C00194                       </td><td>Cobamide                     </td></tr>\n",
       "\t<tr><td>C00195                       </td><td>N-Acylsphingosine            </td></tr>\n",
       "\t<tr><td>C00196                       </td><td>2,3-Dihydroxybenzoate        </td></tr>\n",
       "\t<tr><td>C00197                       </td><td>3-Phospho-D-glycerate        </td></tr>\n",
       "\t<tr><td>C00198                       </td><td>D-Glucono-1,5-lactone        </td></tr>\n",
       "\t<tr><td>C00199                       </td><td>D-Ribulose                   </td></tr>\n",
       "\t<tr><td>C00200                       </td><td>Phenazine                    </td></tr>\n",
       "\t<tr><td>C00201                       </td><td>Nucleoside                   </td></tr>\n",
       "\t<tr><td>C00202                       </td><td>Isoflurophate                </td></tr>\n",
       "\t<tr><td>C00203                       </td><td>UDP-N-acetyl-D-galactosamine </td></tr>\n",
       "\t<tr><td>C00204                       </td><td>2-Dehydro-3-deoxy-D-gluconate</td></tr>\n",
       "</tbody>\n",
       "</table>\n"
      ],
      "text/latex": [
       "\\begin{tabular}{r|ll}\n",
       " id & name\\\\\n",
       "\\hline\n",
       "\t C00001                    & H2O                      \\\\\n",
       "\t C00002                    & ATP                      \\\\\n",
       "\t C00003                    & NAD+                     \\\\\n",
       "\t C00004                    & NADH                     \\\\\n",
       "\t C00005                    & NADPH                    \\\\\n",
       "\t C00006                    & NADP+                    \\\\\n",
       "\t C00007                    & Oxygen                   \\\\\n",
       "\t C00008                    & ADP                      \\\\\n",
       "\t C00009                    & Orthophosphate           \\\\\n",
       "\t C00010                    & CoA                      \\\\\n",
       "\t C00011                    & CO2                      \\\\\n",
       "\t C00012                    & Peptide                  \\\\\n",
       "\t C00013                    & Diphosphate              \\\\\n",
       "\t C00014                    & NH3                      \\\\\n",
       "\t C00015                    & UDP                      \\\\\n",
       "\t C00016                    & FAD                      \\\\\n",
       "\t C00017                    & Protein                  \\\\\n",
       "\t C00018                    & Pyridoxal                \\\\\n",
       "\t C00019                    & S-Adenosyl-L-methionine  \\\\\n",
       "\t C00020                    & AMP                      \\\\\n",
       "\t C00021                    & S-Adenosyl-L-homocysteine\\\\\n",
       "\t C00022                    & Pyruvate                 \\\\\n",
       "\t C00023                    & Iron                     \\\\\n",
       "\t C00024                    & Acetyl-CoA               \\\\\n",
       "\t C00025                    & L-Glutamate              \\\\\n",
       "\t C00026                    & 2-Oxoglutarate           \\\\\n",
       "\t C00027                    & Hydrogen                 \\\\\n",
       "\t C00028                    & Acceptor                 \\\\\n",
       "\t C00029                    & UDP-glucose              \\\\\n",
       "\t C00030                    & Reduced                  \\\\\n",
       "\t ⋮ & ⋮\\\\\n",
       "\t C00175                        & Cobalt                       \\\\\n",
       "\t C00176                        & Flavin                       \\\\\n",
       "\t C00177                        & Cyanide                      \\\\\n",
       "\t C00178                        & Thymine                      \\\\\n",
       "\t C00179                        & Agmatine                     \\\\\n",
       "\t C00180                        & Benzoate                     \\\\\n",
       "\t C00181                        & D-Xylose                     \\\\\n",
       "\t C00182                        & Glycogen                     \\\\\n",
       "\t C00183                        & L-Valine                     \\\\\n",
       "\t C00184                        & Glycerone                    \\\\\n",
       "\t C00185                        & Cellobiose                   \\\\\n",
       "\t C00186                        & (S)-Lactate                  \\\\\n",
       "\t C00187                        & Cholesterol                  \\\\\n",
       "\t C00188                        & L-Threonine                  \\\\\n",
       "\t C00189                        & Ethanolamine                 \\\\\n",
       "\t C00190                        & UDP-D-xylose                 \\\\\n",
       "\t C00191                        & D-Glucuronate                \\\\\n",
       "\t C00192                        & Hydroxylamine                \\\\\n",
       "\t C00193                        & Aromatic                     \\\\\n",
       "\t C00194                        & Cobamide                     \\\\\n",
       "\t C00195                        & N-Acylsphingosine            \\\\\n",
       "\t C00196                        & 2,3-Dihydroxybenzoate        \\\\\n",
       "\t C00197                        & 3-Phospho-D-glycerate        \\\\\n",
       "\t C00198                        & D-Glucono-1,5-lactone        \\\\\n",
       "\t C00199                        & D-Ribulose                   \\\\\n",
       "\t C00200                        & Phenazine                    \\\\\n",
       "\t C00201                        & Nucleoside                   \\\\\n",
       "\t C00202                        & Isoflurophate                \\\\\n",
       "\t C00203                        & UDP-N-acetyl-D-galactosamine \\\\\n",
       "\t C00204                        & 2-Dehydro-3-deoxy-D-gluconate\\\\\n",
       "\\end{tabular}\n"
      ],
      "text/markdown": [
       "\n",
       "id | name | \n",
       "|---|---|---|---|---|---|---|---|---|---|---|---|---|---|---|---|---|---|---|---|---|---|---|---|---|---|---|---|---|---|---|---|---|---|---|---|---|---|---|---|---|---|---|---|---|---|---|---|---|---|---|---|---|---|---|---|---|---|---|---|---|\n",
       "| C00001                    | H2O                       | \n",
       "| C00002                    | ATP                       | \n",
       "| C00003                    | NAD+                      | \n",
       "| C00004                    | NADH                      | \n",
       "| C00005                    | NADPH                     | \n",
       "| C00006                    | NADP+                     | \n",
       "| C00007                    | Oxygen                    | \n",
       "| C00008                    | ADP                       | \n",
       "| C00009                    | Orthophosphate            | \n",
       "| C00010                    | CoA                       | \n",
       "| C00011                    | CO2                       | \n",
       "| C00012                    | Peptide                   | \n",
       "| C00013                    | Diphosphate               | \n",
       "| C00014                    | NH3                       | \n",
       "| C00015                    | UDP                       | \n",
       "| C00016                    | FAD                       | \n",
       "| C00017                    | Protein                   | \n",
       "| C00018                    | Pyridoxal                 | \n",
       "| C00019                    | S-Adenosyl-L-methionine   | \n",
       "| C00020                    | AMP                       | \n",
       "| C00021                    | S-Adenosyl-L-homocysteine | \n",
       "| C00022                    | Pyruvate                  | \n",
       "| C00023                    | Iron                      | \n",
       "| C00024                    | Acetyl-CoA                | \n",
       "| C00025                    | L-Glutamate               | \n",
       "| C00026                    | 2-Oxoglutarate            | \n",
       "| C00027                    | Hydrogen                  | \n",
       "| C00028                    | Acceptor                  | \n",
       "| C00029                    | UDP-glucose               | \n",
       "| C00030                    | Reduced                   | \n",
       "| ⋮ | ⋮ | \n",
       "| C00175                        | Cobalt                        | \n",
       "| C00176                        | Flavin                        | \n",
       "| C00177                        | Cyanide                       | \n",
       "| C00178                        | Thymine                       | \n",
       "| C00179                        | Agmatine                      | \n",
       "| C00180                        | Benzoate                      | \n",
       "| C00181                        | D-Xylose                      | \n",
       "| C00182                        | Glycogen                      | \n",
       "| C00183                        | L-Valine                      | \n",
       "| C00184                        | Glycerone                     | \n",
       "| C00185                        | Cellobiose                    | \n",
       "| C00186                        | (S)-Lactate                   | \n",
       "| C00187                        | Cholesterol                   | \n",
       "| C00188                        | L-Threonine                   | \n",
       "| C00189                        | Ethanolamine                  | \n",
       "| C00190                        | UDP-D-xylose                  | \n",
       "| C00191                        | D-Glucuronate                 | \n",
       "| C00192                        | Hydroxylamine                 | \n",
       "| C00193                        | Aromatic                      | \n",
       "| C00194                        | Cobamide                      | \n",
       "| C00195                        | N-Acylsphingosine             | \n",
       "| C00196                        | 2,3-Dihydroxybenzoate         | \n",
       "| C00197                        | 3-Phospho-D-glycerate         | \n",
       "| C00198                        | D-Glucono-1,5-lactone         | \n",
       "| C00199                        | D-Ribulose                    | \n",
       "| C00200                        | Phenazine                     | \n",
       "| C00201                        | Nucleoside                    | \n",
       "| C00202                        | Isoflurophate                 | \n",
       "| C00203                        | UDP-N-acetyl-D-galactosamine  | \n",
       "| C00204                        | 2-Dehydro-3-deoxy-D-gluconate | \n",
       "\n",
       "\n"
      ],
      "text/plain": [
       "    id     name                         \n",
       "1   C00001 H2O                          \n",
       "2   C00002 ATP                          \n",
       "3   C00003 NAD+                         \n",
       "4   C00004 NADH                         \n",
       "5   C00005 NADPH                        \n",
       "6   C00006 NADP+                        \n",
       "7   C00007 Oxygen                       \n",
       "8   C00008 ADP                          \n",
       "9   C00009 Orthophosphate               \n",
       "10  C00010 CoA                          \n",
       "11  C00011 CO2                          \n",
       "12  C00012 Peptide                      \n",
       "13  C00013 Diphosphate                  \n",
       "14  C00014 NH3                          \n",
       "15  C00015 UDP                          \n",
       "16  C00016 FAD                          \n",
       "17  C00017 Protein                      \n",
       "18  C00018 Pyridoxal                    \n",
       "19  C00019 S-Adenosyl-L-methionine      \n",
       "20  C00020 AMP                          \n",
       "21  C00021 S-Adenosyl-L-homocysteine    \n",
       "22  C00022 Pyruvate                     \n",
       "23  C00023 Iron                         \n",
       "24  C00024 Acetyl-CoA                   \n",
       "25  C00025 L-Glutamate                  \n",
       "26  C00026 2-Oxoglutarate               \n",
       "27  C00027 Hydrogen                     \n",
       "28  C00028 Acceptor                     \n",
       "29  C00029 UDP-glucose                  \n",
       "30  C00030 Reduced                      \n",
       "⋮   ⋮      ⋮                            \n",
       "171 C00175 Cobalt                       \n",
       "172 C00176 Flavin                       \n",
       "173 C00177 Cyanide                      \n",
       "174 C00178 Thymine                      \n",
       "175 C00179 Agmatine                     \n",
       "176 C00180 Benzoate                     \n",
       "177 C00181 D-Xylose                     \n",
       "178 C00182 Glycogen                     \n",
       "179 C00183 L-Valine                     \n",
       "180 C00184 Glycerone                    \n",
       "181 C00185 Cellobiose                   \n",
       "182 C00186 (S)-Lactate                  \n",
       "183 C00187 Cholesterol                  \n",
       "184 C00188 L-Threonine                  \n",
       "185 C00189 Ethanolamine                 \n",
       "186 C00190 UDP-D-xylose                 \n",
       "187 C00191 D-Glucuronate                \n",
       "188 C00192 Hydroxylamine                \n",
       "189 C00193 Aromatic                     \n",
       "190 C00194 Cobamide                     \n",
       "191 C00195 N-Acylsphingosine            \n",
       "192 C00196 2,3-Dihydroxybenzoate        \n",
       "193 C00197 3-Phospho-D-glycerate        \n",
       "194 C00198 D-Glucono-1,5-lactone        \n",
       "195 C00199 D-Ribulose                   \n",
       "196 C00200 Phenazine                    \n",
       "197 C00201 Nucleoside                   \n",
       "198 C00202 Isoflurophate                \n",
       "199 C00203 UDP-N-acetyl-D-galactosamine \n",
       "200 C00204 2-Dehydro-3-deoxy-D-gluconate"
      ]
     },
     "metadata": {},
     "output_type": "display_data"
    }
   ],
   "source": [
    "my.df <- data.frame(id = ids, name = short.names)\n",
    "head(my.df, 200)"
   ]
  },
  {
   "cell_type": "code",
   "execution_count": 97,
   "metadata": {
    "collapsed": false
   },
   "outputs": [
    {
     "data": {
      "text/html": [
       "<table>\n",
       "<thead><tr><th></th><th scope=col>id</th><th scope=col>name</th></tr></thead>\n",
       "<tbody>\n",
       "\t<tr><th scope=row>17349</th><td>C19315                       </td><td>Acridine                     </td></tr>\n",
       "\t<tr><th scope=row>17350</th><td>C19316                       </td><td>Allyl                        </td></tr>\n",
       "\t<tr><th scope=row>17351</th><td>C19317                       </td><td>Allyl                        </td></tr>\n",
       "\t<tr><th scope=row>17352</th><td>C19318                       </td><td>Allyl                        </td></tr>\n",
       "\t<tr><th scope=row>17353</th><td>C19319                       </td><td>5-Aminoacenaphthene          </td></tr>\n",
       "\t<tr><th scope=row>17354</th><td>C19320                       </td><td>1-Amino-2-methylanthraquinone</td></tr>\n",
       "\t<tr><th scope=row>17355</th><td>C19321                       </td><td>2-Amino-4-nitrophenol        </td></tr>\n",
       "\t<tr><th scope=row>17356</th><td>C19322                       </td><td>2-Amino-5-nitrophenol        </td></tr>\n",
       "\t<tr><th scope=row>17357</th><td>C19323                       </td><td>4-Amino-2-nitrophenol        </td></tr>\n",
       "\t<tr><th scope=row>17358</th><td>C19325                       </td><td>11-Aminoundecanoic           </td></tr>\n",
       "\t<tr><th scope=row>17359</th><td>C19326                       </td><td>para-Anisidine               </td></tr>\n",
       "\t<tr><th scope=row>17360</th><td>C19327                       </td><td>Anthanthrene                 </td></tr>\n",
       "\t<tr><th scope=row>17361</th><td>C19328                       </td><td>Antimony                     </td></tr>\n",
       "\t<tr><th scope=row>17362</th><td>C19329                       </td><td>Apholate                     </td></tr>\n",
       "\t<tr><th scope=row>17363</th><td>C19330                       </td><td>para-Aramid                  </td></tr>\n",
       "\t<tr><th scope=row>17364</th><td>C19331                       </td><td>Arsenobetaine                </td></tr>\n",
       "\t<tr><th scope=row>17365</th><td>C19332                       </td><td>2-(1-Aziridinyl)ethanol      </td></tr>\n",
       "\t<tr><th scope=row>17366</th><td>C19333                       </td><td>Aziridyl                     </td></tr>\n",
       "\t<tr><th scope=row>17367</th><td>C19334                       </td><td>Azobenzene                   </td></tr>\n",
       "\t<tr><th scope=row>17368</th><td>C19335                       </td><td>11H-Benz[bc]aceanthrylene    </td></tr>\n",
       "\t<tr><th scope=row>17369</th><td>C19336                       </td><td>Benz[l]aceanthrylene         </td></tr>\n",
       "\t<tr><th scope=row>17370</th><td>C19337                       </td><td>Benz[a]acridine              </td></tr>\n",
       "\t<tr><th scope=row>17371</th><td>C19338                       </td><td>Benz[c]acridine              </td></tr>\n",
       "\t<tr><th scope=row>17372</th><td>C19339                       </td><td>Benzo[b]chrysene             </td></tr>\n",
       "\t<tr><th scope=row>17373</th><td>C19340                       </td><td>Benzo[g]chrysene             </td></tr>\n",
       "\t<tr><th scope=row>17374</th><td>C19341                       </td><td>Benzo[a]fluoranthene         </td></tr>\n",
       "\t<tr><th scope=row>17375</th><td>C19342                       </td><td>Benzo[ghi]fluoranthene       </td></tr>\n",
       "\t<tr><th scope=row>17376</th><td>C19343                       </td><td>Benzo[a]fluorene             </td></tr>\n",
       "\t<tr><th scope=row>17377</th><td>C19344                       </td><td>Benzo[c]fluorene             </td></tr>\n",
       "\t<tr><th scope=row>17378</th><td>C19345                       </td><td>para-Benzoquinone            </td></tr>\n",
       "\t<tr><th scope=row>⋮</th><td>⋮</td><td>⋮</td></tr>\n",
       "\t<tr><th scope=row>17519</th><td>C19487                                                        </td><td>Nitrovin                                                      </td></tr>\n",
       "\t<tr><th scope=row>17520</th><td>C19488                                                        </td><td>7,12-Dimethylbenz[a]anthracene                                </td></tr>\n",
       "\t<tr><th scope=row>17521</th><td>C19489                                                        </td><td>1a,11b-Dihydro-4,9-dimethylbenz[a]anthra[3,4-b]oxirene        </td></tr>\n",
       "\t<tr><th scope=row>17522</th><td>C19490                                                        </td><td>trans-3,4-Dihydro-3,4-dihydroxy-7,12-dimethylbenz[a]anthracene</td></tr>\n",
       "\t<tr><th scope=row>17523</th><td>C19491                                                        </td><td>2-methylbutanal                                               </td></tr>\n",
       "\t<tr><th scope=row>17524</th><td>C19492                                                        </td><td>Nylon                                                         </td></tr>\n",
       "\t<tr><th scope=row>17525</th><td>C19493                                                        </td><td>Estradiol                                                     </td></tr>\n",
       "\t<tr><th scope=row>17526</th><td>C19494                                                        </td><td>Oxyphenbutazone                                               </td></tr>\n",
       "\t<tr><th scope=row>17527</th><td>C19495                                                        </td><td>Penicillic                                                    </td></tr>\n",
       "\t<tr><th scope=row>17528</th><td>C19496                                                        </td><td>Pentachloroethane                                             </td></tr>\n",
       "\t<tr><th scope=row>17529</th><td>C19497                                                        </td><td>Perylene                                                      </td></tr>\n",
       "\t<tr><th scope=row>17530</th><td>C19498                                                        </td><td>Phenicarbazide                                                </td></tr>\n",
       "\t<tr><th scope=row>17531</th><td>C19499                                                        </td><td>para-Phenylenediamine                                         </td></tr>\n",
       "\t<tr><th scope=row>17532</th><td>C19500                                                        </td><td>Picene                                                        </td></tr>\n",
       "\t<tr><th scope=row>17533</th><td>C19501                                                        </td><td>Polyacrylic                                                   </td></tr>\n",
       "\t<tr><th scope=row>17534</th><td>C19502                                                        </td><td>Polychloroprene                                               </td></tr>\n",
       "\t<tr><th scope=row>17535</th><td>C19503                                                        </td><td>Polyethylene                                                  </td></tr>\n",
       "\t<tr><th scope=row>17536</th><td>C19504                                                        </td><td>Polymethyl                                                    </td></tr>\n",
       "\t<tr><th scope=row>17537</th><td>C19505                                                        </td><td>Polipropene                                                   </td></tr>\n",
       "\t<tr><th scope=row>17538</th><td>C19506                                                        </td><td>Polystyrene                                                   </td></tr>\n",
       "\t<tr><th scope=row>17539</th><td>C19507                                                        </td><td>Polytetrafluoroethylene                                       </td></tr>\n",
       "\t<tr><th scope=row>17540</th><td>C19508                                                        </td><td>Polyvinyl                                                     </td></tr>\n",
       "\t<tr><th scope=row>17541</th><td>C19509                                                        </td><td>Polyvinyl                                                     </td></tr>\n",
       "\t<tr><th scope=row>17542</th><td>C19510                                                        </td><td>Ponceau                                                       </td></tr>\n",
       "\t<tr><th scope=row>17543</th><td>C19511                                                        </td><td>Potassium                                                     </td></tr>\n",
       "\t<tr><th scope=row>17544</th><td>C19512                                                        </td><td>Prednimustine                                                 </td></tr>\n",
       "\t<tr><th scope=row>17545</th><td>C19513                                                        </td><td>Pronetalol                                                    </td></tr>\n",
       "\t<tr><th scope=row>17546</th><td>C19514                                                        </td><td>n-Propyl                                                      </td></tr>\n",
       "\t<tr><th scope=row>17547</th><td>C19515                                                        </td><td>Ptaquiloside                                                  </td></tr>\n",
       "\t<tr><th scope=row>17548</th><td>C19516                                                        </td><td>Pyrido[3,4-c]psoralen                                         </td></tr>\n",
       "</tbody>\n",
       "</table>\n"
      ],
      "text/latex": [
       "\\begin{tabular}{r|ll}\n",
       "  & id & name\\\\\n",
       "\\hline\n",
       "\t17349 & C19315                        & Acridine                     \\\\\n",
       "\t17350 & C19316                        & Allyl                        \\\\\n",
       "\t17351 & C19317                        & Allyl                        \\\\\n",
       "\t17352 & C19318                        & Allyl                        \\\\\n",
       "\t17353 & C19319                        & 5-Aminoacenaphthene          \\\\\n",
       "\t17354 & C19320                        & 1-Amino-2-methylanthraquinone\\\\\n",
       "\t17355 & C19321                        & 2-Amino-4-nitrophenol        \\\\\n",
       "\t17356 & C19322                        & 2-Amino-5-nitrophenol        \\\\\n",
       "\t17357 & C19323                        & 4-Amino-2-nitrophenol        \\\\\n",
       "\t17358 & C19325                        & 11-Aminoundecanoic           \\\\\n",
       "\t17359 & C19326                        & para-Anisidine               \\\\\n",
       "\t17360 & C19327                        & Anthanthrene                 \\\\\n",
       "\t17361 & C19328                        & Antimony                     \\\\\n",
       "\t17362 & C19329                        & Apholate                     \\\\\n",
       "\t17363 & C19330                        & para-Aramid                  \\\\\n",
       "\t17364 & C19331                        & Arsenobetaine                \\\\\n",
       "\t17365 & C19332                        & 2-(1-Aziridinyl)ethanol      \\\\\n",
       "\t17366 & C19333                        & Aziridyl                     \\\\\n",
       "\t17367 & C19334                        & Azobenzene                   \\\\\n",
       "\t17368 & C19335                            & 11H-Benz{[}bc{]}aceanthrylene    \\\\\n",
       "\t17369 & C19336                            & Benz{[}l{]}aceanthrylene         \\\\\n",
       "\t17370 & C19337                            & Benz{[}a{]}acridine              \\\\\n",
       "\t17371 & C19338                            & Benz{[}c{]}acridine              \\\\\n",
       "\t17372 & C19339                            & Benzo{[}b{]}chrysene             \\\\\n",
       "\t17373 & C19340                            & Benzo{[}g{]}chrysene             \\\\\n",
       "\t17374 & C19341                            & Benzo{[}a{]}fluoranthene         \\\\\n",
       "\t17375 & C19342                            & Benzo{[}ghi{]}fluoranthene       \\\\\n",
       "\t17376 & C19343                            & Benzo{[}a{]}fluorene             \\\\\n",
       "\t17377 & C19344                            & Benzo{[}c{]}fluorene             \\\\\n",
       "\t17378 & C19345                        & para-Benzoquinone            \\\\\n",
       "\t⋮ & ⋮ & ⋮\\\\\n",
       "\t17519 & C19487                                                         & Nitrovin                                                      \\\\\n",
       "\t17520 & C19488                                                             & 7,12-Dimethylbenz{[}a{]}anthracene                                \\\\\n",
       "\t17521 & C19489                                                                 & 1a,11b-Dihydro-4,9-dimethylbenz{[}a{]}anthra{[}3,4-b{]}oxirene        \\\\\n",
       "\t17522 & C19490                                                             & trans-3,4-Dihydro-3,4-dihydroxy-7,12-dimethylbenz{[}a{]}anthracene\\\\\n",
       "\t17523 & C19491                                                         & 2-methylbutanal                                               \\\\\n",
       "\t17524 & C19492                                                         & Nylon                                                         \\\\\n",
       "\t17525 & C19493                                                         & Estradiol                                                     \\\\\n",
       "\t17526 & C19494                                                         & Oxyphenbutazone                                               \\\\\n",
       "\t17527 & C19495                                                         & Penicillic                                                    \\\\\n",
       "\t17528 & C19496                                                         & Pentachloroethane                                             \\\\\n",
       "\t17529 & C19497                                                         & Perylene                                                      \\\\\n",
       "\t17530 & C19498                                                         & Phenicarbazide                                                \\\\\n",
       "\t17531 & C19499                                                         & para-Phenylenediamine                                         \\\\\n",
       "\t17532 & C19500                                                         & Picene                                                        \\\\\n",
       "\t17533 & C19501                                                         & Polyacrylic                                                   \\\\\n",
       "\t17534 & C19502                                                         & Polychloroprene                                               \\\\\n",
       "\t17535 & C19503                                                         & Polyethylene                                                  \\\\\n",
       "\t17536 & C19504                                                         & Polymethyl                                                    \\\\\n",
       "\t17537 & C19505                                                         & Polipropene                                                   \\\\\n",
       "\t17538 & C19506                                                         & Polystyrene                                                   \\\\\n",
       "\t17539 & C19507                                                         & Polytetrafluoroethylene                                       \\\\\n",
       "\t17540 & C19508                                                         & Polyvinyl                                                     \\\\\n",
       "\t17541 & C19509                                                         & Polyvinyl                                                     \\\\\n",
       "\t17542 & C19510                                                         & Ponceau                                                       \\\\\n",
       "\t17543 & C19511                                                         & Potassium                                                     \\\\\n",
       "\t17544 & C19512                                                         & Prednimustine                                                 \\\\\n",
       "\t17545 & C19513                                                         & Pronetalol                                                    \\\\\n",
       "\t17546 & C19514                                                         & n-Propyl                                                      \\\\\n",
       "\t17547 & C19515                                                         & Ptaquiloside                                                  \\\\\n",
       "\t17548 & C19516                                                             & Pyrido{[}3,4-c{]}psoralen                                         \\\\\n",
       "\\end{tabular}\n"
      ],
      "text/markdown": [
       "\n",
       "| <!--/--> | id | name | \n",
       "|---|---|---|---|---|---|---|---|---|---|---|---|---|---|---|---|---|---|---|---|---|---|---|---|---|---|---|---|---|---|---|---|---|---|---|---|---|---|---|---|---|---|---|---|---|---|---|---|---|---|---|---|---|---|---|---|---|---|---|---|---|\n",
       "| 17349 | C19315                        | Acridine                      | \n",
       "| 17350 | C19316                        | Allyl                         | \n",
       "| 17351 | C19317                        | Allyl                         | \n",
       "| 17352 | C19318                        | Allyl                         | \n",
       "| 17353 | C19319                        | 5-Aminoacenaphthene           | \n",
       "| 17354 | C19320                        | 1-Amino-2-methylanthraquinone | \n",
       "| 17355 | C19321                        | 2-Amino-4-nitrophenol         | \n",
       "| 17356 | C19322                        | 2-Amino-5-nitrophenol         | \n",
       "| 17357 | C19323                        | 4-Amino-2-nitrophenol         | \n",
       "| 17358 | C19325                        | 11-Aminoundecanoic            | \n",
       "| 17359 | C19326                        | para-Anisidine                | \n",
       "| 17360 | C19327                        | Anthanthrene                  | \n",
       "| 17361 | C19328                        | Antimony                      | \n",
       "| 17362 | C19329                        | Apholate                      | \n",
       "| 17363 | C19330                        | para-Aramid                   | \n",
       "| 17364 | C19331                        | Arsenobetaine                 | \n",
       "| 17365 | C19332                        | 2-(1-Aziridinyl)ethanol       | \n",
       "| 17366 | C19333                        | Aziridyl                      | \n",
       "| 17367 | C19334                        | Azobenzene                    | \n",
       "| 17368 | C19335                        | 11H-Benz[bc]aceanthrylene     | \n",
       "| 17369 | C19336                        | Benz[l]aceanthrylene          | \n",
       "| 17370 | C19337                        | Benz[a]acridine               | \n",
       "| 17371 | C19338                        | Benz[c]acridine               | \n",
       "| 17372 | C19339                        | Benzo[b]chrysene              | \n",
       "| 17373 | C19340                        | Benzo[g]chrysene              | \n",
       "| 17374 | C19341                        | Benzo[a]fluoranthene          | \n",
       "| 17375 | C19342                        | Benzo[ghi]fluoranthene        | \n",
       "| 17376 | C19343                        | Benzo[a]fluorene              | \n",
       "| 17377 | C19344                        | Benzo[c]fluorene              | \n",
       "| 17378 | C19345                        | para-Benzoquinone             | \n",
       "| ⋮ | ⋮ | ⋮ | \n",
       "| 17519 | C19487                                                         | Nitrovin                                                       | \n",
       "| 17520 | C19488                                                         | 7,12-Dimethylbenz[a]anthracene                                 | \n",
       "| 17521 | C19489                                                         | 1a,11b-Dihydro-4,9-dimethylbenz[a]anthra[3,4-b]oxirene         | \n",
       "| 17522 | C19490                                                         | trans-3,4-Dihydro-3,4-dihydroxy-7,12-dimethylbenz[a]anthracene | \n",
       "| 17523 | C19491                                                         | 2-methylbutanal                                                | \n",
       "| 17524 | C19492                                                         | Nylon                                                          | \n",
       "| 17525 | C19493                                                         | Estradiol                                                      | \n",
       "| 17526 | C19494                                                         | Oxyphenbutazone                                                | \n",
       "| 17527 | C19495                                                         | Penicillic                                                     | \n",
       "| 17528 | C19496                                                         | Pentachloroethane                                              | \n",
       "| 17529 | C19497                                                         | Perylene                                                       | \n",
       "| 17530 | C19498                                                         | Phenicarbazide                                                 | \n",
       "| 17531 | C19499                                                         | para-Phenylenediamine                                          | \n",
       "| 17532 | C19500                                                         | Picene                                                         | \n",
       "| 17533 | C19501                                                         | Polyacrylic                                                    | \n",
       "| 17534 | C19502                                                         | Polychloroprene                                                | \n",
       "| 17535 | C19503                                                         | Polyethylene                                                   | \n",
       "| 17536 | C19504                                                         | Polymethyl                                                     | \n",
       "| 17537 | C19505                                                         | Polipropene                                                    | \n",
       "| 17538 | C19506                                                         | Polystyrene                                                    | \n",
       "| 17539 | C19507                                                         | Polytetrafluoroethylene                                        | \n",
       "| 17540 | C19508                                                         | Polyvinyl                                                      | \n",
       "| 17541 | C19509                                                         | Polyvinyl                                                      | \n",
       "| 17542 | C19510                                                         | Ponceau                                                        | \n",
       "| 17543 | C19511                                                         | Potassium                                                      | \n",
       "| 17544 | C19512                                                         | Prednimustine                                                  | \n",
       "| 17545 | C19513                                                         | Pronetalol                                                     | \n",
       "| 17546 | C19514                                                         | n-Propyl                                                       | \n",
       "| 17547 | C19515                                                         | Ptaquiloside                                                   | \n",
       "| 17548 | C19516                                                         | Pyrido[3,4-c]psoralen                                          | \n",
       "\n",
       "\n"
      ],
      "text/plain": [
       "      id     name                                                          \n",
       "17349 C19315 Acridine                                                      \n",
       "17350 C19316 Allyl                                                         \n",
       "17351 C19317 Allyl                                                         \n",
       "17352 C19318 Allyl                                                         \n",
       "17353 C19319 5-Aminoacenaphthene                                           \n",
       "17354 C19320 1-Amino-2-methylanthraquinone                                 \n",
       "17355 C19321 2-Amino-4-nitrophenol                                         \n",
       "17356 C19322 2-Amino-5-nitrophenol                                         \n",
       "17357 C19323 4-Amino-2-nitrophenol                                         \n",
       "17358 C19325 11-Aminoundecanoic                                            \n",
       "17359 C19326 para-Anisidine                                                \n",
       "17360 C19327 Anthanthrene                                                  \n",
       "17361 C19328 Antimony                                                      \n",
       "17362 C19329 Apholate                                                      \n",
       "17363 C19330 para-Aramid                                                   \n",
       "17364 C19331 Arsenobetaine                                                 \n",
       "17365 C19332 2-(1-Aziridinyl)ethanol                                       \n",
       "17366 C19333 Aziridyl                                                      \n",
       "17367 C19334 Azobenzene                                                    \n",
       "17368 C19335 11H-Benz[bc]aceanthrylene                                     \n",
       "17369 C19336 Benz[l]aceanthrylene                                          \n",
       "17370 C19337 Benz[a]acridine                                               \n",
       "17371 C19338 Benz[c]acridine                                               \n",
       "17372 C19339 Benzo[b]chrysene                                              \n",
       "17373 C19340 Benzo[g]chrysene                                              \n",
       "17374 C19341 Benzo[a]fluoranthene                                          \n",
       "17375 C19342 Benzo[ghi]fluoranthene                                        \n",
       "17376 C19343 Benzo[a]fluorene                                              \n",
       "17377 C19344 Benzo[c]fluorene                                              \n",
       "17378 C19345 para-Benzoquinone                                             \n",
       "⋮     ⋮      ⋮                                                             \n",
       "17519 C19487 Nitrovin                                                      \n",
       "17520 C19488 7,12-Dimethylbenz[a]anthracene                                \n",
       "17521 C19489 1a,11b-Dihydro-4,9-dimethylbenz[a]anthra[3,4-b]oxirene        \n",
       "17522 C19490 trans-3,4-Dihydro-3,4-dihydroxy-7,12-dimethylbenz[a]anthracene\n",
       "17523 C19491 2-methylbutanal                                               \n",
       "17524 C19492 Nylon                                                         \n",
       "17525 C19493 Estradiol                                                     \n",
       "17526 C19494 Oxyphenbutazone                                               \n",
       "17527 C19495 Penicillic                                                    \n",
       "17528 C19496 Pentachloroethane                                             \n",
       "17529 C19497 Perylene                                                      \n",
       "17530 C19498 Phenicarbazide                                                \n",
       "17531 C19499 para-Phenylenediamine                                         \n",
       "17532 C19500 Picene                                                        \n",
       "17533 C19501 Polyacrylic                                                   \n",
       "17534 C19502 Polychloroprene                                               \n",
       "17535 C19503 Polyethylene                                                  \n",
       "17536 C19504 Polymethyl                                                    \n",
       "17537 C19505 Polipropene                                                   \n",
       "17538 C19506 Polystyrene                                                   \n",
       "17539 C19507 Polytetrafluoroethylene                                       \n",
       "17540 C19508 Polyvinyl                                                     \n",
       "17541 C19509 Polyvinyl                                                     \n",
       "17542 C19510 Ponceau                                                       \n",
       "17543 C19511 Potassium                                                     \n",
       "17544 C19512 Prednimustine                                                 \n",
       "17545 C19513 Pronetalol                                                    \n",
       "17546 C19514 n-Propyl                                                      \n",
       "17547 C19515 Ptaquiloside                                                  \n",
       "17548 C19516 Pyrido[3,4-c]psoralen                                         "
      ]
     },
     "metadata": {},
     "output_type": "display_data"
    }
   ],
   "source": [
    "tail(my.df,200)"
   ]
  },
  {
   "cell_type": "code",
   "execution_count": null,
   "metadata": {
    "collapsed": true
   },
   "outputs": [],
   "source": []
  }
 ],
 "metadata": {
  "kernelspec": {
   "display_name": "R",
   "language": "R",
   "name": "ir"
  },
  "language_info": {
   "codemirror_mode": "r",
   "file_extension": ".r",
   "mimetype": "text/x-r-source",
   "name": "R",
   "pygments_lexer": "r",
   "version": "3.4.0"
  }
 },
 "nbformat": 4,
 "nbformat_minor": 2
}
