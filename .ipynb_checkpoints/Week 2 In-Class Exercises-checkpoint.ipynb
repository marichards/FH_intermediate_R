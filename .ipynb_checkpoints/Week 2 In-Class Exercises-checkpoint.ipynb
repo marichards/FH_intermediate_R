{
 "cells": [
  {
   "cell_type": "markdown",
   "metadata": {},
   "source": [
    "# Week 2 In-Class Exercises\n",
    "\n",
    "Let's start by grabbing our dataset. We'll be using a dataset of poker hands from UC Irvine located [here](http://archive.ics.uci.edu/ml/datasets/Poker+Hand). I've left them in the class Github folder for your convenience, but downloading them would look something like this:"
   ]
  },
  {
   "cell_type": "code",
   "execution_count": 3,
   "metadata": {
    "collapsed": true
   },
   "outputs": [],
   "source": [
    "download.file(url = \"http://archive.ics.uci.edu/ml/machine-learning-databases/poker/poker-hand-training-true.data\",\n",
    "             destfile = \"./poker_hands.csv\")"
   ]
  },
  {
   "cell_type": "markdown",
   "metadata": {},
   "source": [
    "Now we'll read them into R and create data frames, which we'll merge together using *rbind()*"
   ]
  },
  {
   "cell_type": "code",
   "execution_count": 4,
   "metadata": {
    "collapsed": false
   },
   "outputs": [],
   "source": [
    "poker.hands <- read.csv(file = \"./poker_hands.csv\")"
   ]
  },
  {
   "cell_type": "markdown",
   "metadata": {},
   "source": [
    "It's a good idea to start by exploring the data a bit...we'll do a few variations on this before we move on to the dplyr stuff."
   ]
  },
  {
   "cell_type": "code",
   "execution_count": 5,
   "metadata": {
    "collapsed": false,
    "scrolled": true
   },
   "outputs": [
    {
     "data": {
      "text/html": [
       "<table>\n",
       "<thead><tr><th scope=col>X1</th><th scope=col>X10</th><th scope=col>X1.1</th><th scope=col>X11</th><th scope=col>X1.2</th><th scope=col>X13</th><th scope=col>X1.3</th><th scope=col>X12</th><th scope=col>X1.4</th><th scope=col>X1.5</th><th scope=col>X9</th></tr></thead>\n",
       "<tbody>\n",
       "\t<tr><td>2 </td><td>11</td><td>2 </td><td>13</td><td>2 </td><td>10</td><td>2 </td><td>12</td><td>2 </td><td> 1</td><td>9 </td></tr>\n",
       "\t<tr><td>3 </td><td>12</td><td>3 </td><td>11</td><td>3 </td><td>13</td><td>3 </td><td>10</td><td>3 </td><td> 1</td><td>9 </td></tr>\n",
       "\t<tr><td>4 </td><td>10</td><td>4 </td><td>11</td><td>4 </td><td> 1</td><td>4 </td><td>13</td><td>4 </td><td>12</td><td>9 </td></tr>\n",
       "\t<tr><td>4 </td><td> 1</td><td>4 </td><td>13</td><td>4 </td><td>12</td><td>4 </td><td>11</td><td>4 </td><td>10</td><td>9 </td></tr>\n",
       "\t<tr><td>1 </td><td> 2</td><td>1 </td><td> 4</td><td>1 </td><td> 5</td><td>1 </td><td> 3</td><td>1 </td><td> 6</td><td>8 </td></tr>\n",
       "\t<tr><td>1 </td><td> 9</td><td>1 </td><td>12</td><td>1 </td><td>10</td><td>1 </td><td>11</td><td>1 </td><td>13</td><td>8 </td></tr>\n",
       "</tbody>\n",
       "</table>\n"
      ],
      "text/latex": [
       "\\begin{tabular}{r|lllllllllll}\n",
       " X1 & X10 & X1.1 & X11 & X1.2 & X13 & X1.3 & X12 & X1.4 & X1.5 & X9\\\\\n",
       "\\hline\n",
       "\t 2  & 11 & 2  & 13 & 2  & 10 & 2  & 12 & 2  &  1 & 9 \\\\\n",
       "\t 3  & 12 & 3  & 11 & 3  & 13 & 3  & 10 & 3  &  1 & 9 \\\\\n",
       "\t 4  & 10 & 4  & 11 & 4  &  1 & 4  & 13 & 4  & 12 & 9 \\\\\n",
       "\t 4  &  1 & 4  & 13 & 4  & 12 & 4  & 11 & 4  & 10 & 9 \\\\\n",
       "\t 1  &  2 & 1  &  4 & 1  &  5 & 1  &  3 & 1  &  6 & 8 \\\\\n",
       "\t 1  &  9 & 1  & 12 & 1  & 10 & 1  & 11 & 1  & 13 & 8 \\\\\n",
       "\\end{tabular}\n"
      ],
      "text/markdown": [
       "\n",
       "X1 | X10 | X1.1 | X11 | X1.2 | X13 | X1.3 | X12 | X1.4 | X1.5 | X9 | \n",
       "|---|---|---|---|---|---|\n",
       "| 2  | 11 | 2  | 13 | 2  | 10 | 2  | 12 | 2  |  1 | 9  | \n",
       "| 3  | 12 | 3  | 11 | 3  | 13 | 3  | 10 | 3  |  1 | 9  | \n",
       "| 4  | 10 | 4  | 11 | 4  |  1 | 4  | 13 | 4  | 12 | 9  | \n",
       "| 4  |  1 | 4  | 13 | 4  | 12 | 4  | 11 | 4  | 10 | 9  | \n",
       "| 1  |  2 | 1  |  4 | 1  |  5 | 1  |  3 | 1  |  6 | 8  | \n",
       "| 1  |  9 | 1  | 12 | 1  | 10 | 1  | 11 | 1  | 13 | 8  | \n",
       "\n",
       "\n"
      ],
      "text/plain": [
       "  X1 X10 X1.1 X11 X1.2 X13 X1.3 X12 X1.4 X1.5 X9\n",
       "1 2  11  2    13  2    10  2    12  2     1   9 \n",
       "2 3  12  3    11  3    13  3    10  3     1   9 \n",
       "3 4  10  4    11  4     1  4    13  4    12   9 \n",
       "4 4   1  4    13  4    12  4    11  4    10   9 \n",
       "5 1   2  1     4  1     5  1     3  1     6   8 \n",
       "6 1   9  1    12  1    10  1    11  1    13   8 "
      ]
     },
     "metadata": {},
     "output_type": "display_data"
    },
    {
     "name": "stdout",
     "output_type": "stream",
     "text": [
      "'data.frame':\t25009 obs. of  11 variables:\n",
      " $ X1  : int  2 3 4 4 1 1 2 3 4 1 ...\n",
      " $ X10 : int  11 12 10 1 2 9 1 5 1 1 ...\n",
      " $ X1.1: int  2 3 4 4 1 1 2 3 4 2 ...\n",
      " $ X11 : int  13 11 11 13 4 12 2 6 4 1 ...\n",
      " $ X1.2: int  2 3 4 4 1 1 2 3 4 3 ...\n",
      " $ X13 : int  10 13 1 12 5 10 3 9 2 9 ...\n",
      " $ X1.3: int  2 3 4 4 1 1 2 3 4 1 ...\n",
      " $ X12 : int  12 10 13 11 3 11 4 7 3 5 ...\n",
      " $ X1.4: int  2 3 4 4 1 1 2 3 4 2 ...\n",
      " $ X1.5: int  1 1 12 10 6 13 5 8 5 3 ...\n",
      " $ X9  : int  9 9 9 9 8 8 8 8 8 1 ...\n"
     ]
    }
   ],
   "source": [
    "head(poker.hands)\n",
    "str(poker.hands)"
   ]
  },
  {
   "cell_type": "markdown",
   "metadata": {},
   "source": [
    "The dataset is tidy, but it's pretty ambiguous. We can get some information about it from the [description file](http://archive.ics.uci.edu/ml/machine-learning-databases/poker/poker-hand.names) that will help us understand it, but we can also do a lot with dplyr to help make the dataset more useful and maybe draw some conclusions about it. \n",
    "\n",
    "But before that, let's add some more descriptive column names."
   ]
  },
  {
   "cell_type": "code",
   "execution_count": 6,
   "metadata": {
    "collapsed": false
   },
   "outputs": [
    {
     "data": {
      "text/html": [
       "<table>\n",
       "<thead><tr><th scope=col>Suit.1</th><th scope=col>Rank.1</th><th scope=col>Suit.2</th><th scope=col>Rank.2</th><th scope=col>Suit.3</th><th scope=col>Rank.3</th><th scope=col>Suit.4</th><th scope=col>Rank.4</th><th scope=col>Suit.5</th><th scope=col>Rank.5</th><th scope=col>Class</th></tr></thead>\n",
       "<tbody>\n",
       "\t<tr><td>2 </td><td>11</td><td>2 </td><td>13</td><td>2 </td><td>10</td><td>2 </td><td>12</td><td>2 </td><td> 1</td><td>9 </td></tr>\n",
       "\t<tr><td>3 </td><td>12</td><td>3 </td><td>11</td><td>3 </td><td>13</td><td>3 </td><td>10</td><td>3 </td><td> 1</td><td>9 </td></tr>\n",
       "\t<tr><td>4 </td><td>10</td><td>4 </td><td>11</td><td>4 </td><td> 1</td><td>4 </td><td>13</td><td>4 </td><td>12</td><td>9 </td></tr>\n",
       "\t<tr><td>4 </td><td> 1</td><td>4 </td><td>13</td><td>4 </td><td>12</td><td>4 </td><td>11</td><td>4 </td><td>10</td><td>9 </td></tr>\n",
       "\t<tr><td>1 </td><td> 2</td><td>1 </td><td> 4</td><td>1 </td><td> 5</td><td>1 </td><td> 3</td><td>1 </td><td> 6</td><td>8 </td></tr>\n",
       "\t<tr><td>1 </td><td> 9</td><td>1 </td><td>12</td><td>1 </td><td>10</td><td>1 </td><td>11</td><td>1 </td><td>13</td><td>8 </td></tr>\n",
       "</tbody>\n",
       "</table>\n"
      ],
      "text/latex": [
       "\\begin{tabular}{r|lllllllllll}\n",
       " Suit.1 & Rank.1 & Suit.2 & Rank.2 & Suit.3 & Rank.3 & Suit.4 & Rank.4 & Suit.5 & Rank.5 & Class\\\\\n",
       "\\hline\n",
       "\t 2  & 11 & 2  & 13 & 2  & 10 & 2  & 12 & 2  &  1 & 9 \\\\\n",
       "\t 3  & 12 & 3  & 11 & 3  & 13 & 3  & 10 & 3  &  1 & 9 \\\\\n",
       "\t 4  & 10 & 4  & 11 & 4  &  1 & 4  & 13 & 4  & 12 & 9 \\\\\n",
       "\t 4  &  1 & 4  & 13 & 4  & 12 & 4  & 11 & 4  & 10 & 9 \\\\\n",
       "\t 1  &  2 & 1  &  4 & 1  &  5 & 1  &  3 & 1  &  6 & 8 \\\\\n",
       "\t 1  &  9 & 1  & 12 & 1  & 10 & 1  & 11 & 1  & 13 & 8 \\\\\n",
       "\\end{tabular}\n"
      ],
      "text/markdown": [
       "\n",
       "Suit.1 | Rank.1 | Suit.2 | Rank.2 | Suit.3 | Rank.3 | Suit.4 | Rank.4 | Suit.5 | Rank.5 | Class | \n",
       "|---|---|---|---|---|---|\n",
       "| 2  | 11 | 2  | 13 | 2  | 10 | 2  | 12 | 2  |  1 | 9  | \n",
       "| 3  | 12 | 3  | 11 | 3  | 13 | 3  | 10 | 3  |  1 | 9  | \n",
       "| 4  | 10 | 4  | 11 | 4  |  1 | 4  | 13 | 4  | 12 | 9  | \n",
       "| 4  |  1 | 4  | 13 | 4  | 12 | 4  | 11 | 4  | 10 | 9  | \n",
       "| 1  |  2 | 1  |  4 | 1  |  5 | 1  |  3 | 1  |  6 | 8  | \n",
       "| 1  |  9 | 1  | 12 | 1  | 10 | 1  | 11 | 1  | 13 | 8  | \n",
       "\n",
       "\n"
      ],
      "text/plain": [
       "  Suit.1 Rank.1 Suit.2 Rank.2 Suit.3 Rank.3 Suit.4 Rank.4 Suit.5 Rank.5 Class\n",
       "1 2      11     2      13     2      10     2      12     2       1     9    \n",
       "2 3      12     3      11     3      13     3      10     3       1     9    \n",
       "3 4      10     4      11     4       1     4      13     4      12     9    \n",
       "4 4       1     4      13     4      12     4      11     4      10     9    \n",
       "5 1       2     1       4     1       5     1       3     1       6     8    \n",
       "6 1       9     1      12     1      10     1      11     1      13     8    "
      ]
     },
     "metadata": {},
     "output_type": "display_data"
    }
   ],
   "source": [
    "names(poker.hands) <- c(\"Suit.1\",\"Rank.1\",\"Suit.2\",\"Rank.2\",\"Suit.3\",\n",
    "                       \"Rank.3\",\"Suit.4\",\"Rank.4\",\"Suit.5\",\"Rank.5\",\"Class\")\n",
    "head(poker.hands)"
   ]
  },
  {
   "cell_type": "markdown",
   "metadata": {},
   "source": [
    "Much better! Now then, let's load up dplyr and get started."
   ]
  },
  {
   "cell_type": "code",
   "execution_count": 7,
   "metadata": {
    "collapsed": false
   },
   "outputs": [],
   "source": [
    "suppressMessages(library(dplyr))"
   ]
  },
  {
   "cell_type": "markdown",
   "metadata": {},
   "source": [
    "## Exercises\n",
    "\n",
    "### 1. Starting simple\n",
    "\n",
    "To begin with, notice that there are 10 types of hands. Return to me a summary of the percentage (not probability) of the time we get each type of hand (Class). The list should be in order of descending percentage. \n",
    "\n",
    "For extra \"credit\", do so while returning the actual name of each hand rather than a number. "
   ]
  },
  {
   "cell_type": "code",
   "execution_count": null,
   "metadata": {
    "collapsed": true
   },
   "outputs": [],
   "source": []
  },
  {
   "cell_type": "markdown",
   "metadata": {},
   "source": [
    "### 2. Assessing Straight Flushes\n",
    "\n",
    "I think the most exciting thing about poker is the straight flush, the rarest hand, of which royal flushes are a subset. What percentage (not fraction) of the hands in this dataset are straight flushes?\n",
    "\n",
    "Furthermore, among straight flushes, what percentage occur in each suit?"
   ]
  },
  {
   "cell_type": "code",
   "execution_count": null,
   "metadata": {
    "collapsed": true
   },
   "outputs": [],
   "source": []
  },
  {
   "cell_type": "markdown",
   "metadata": {},
   "source": [
    "### 3. Stuck on a pair\n",
    "\n",
    "Sometimes when I'm playing poker, I pick up the first 2 cards and I've already got a pair...but then I can't seem to get anything else. How often does this occur in the dataset? I'm looking for the percentage of time that I end up with just a pair after starting with 2 paired cards. \n",
    "\n",
    "For part 2, list the ranked probabilities (0 <= p <= 1) and occurences of the different hand outcomes when I start with 2 paired cards. They should be listed in increasing order. "
   ]
  },
  {
   "cell_type": "code",
   "execution_count": null,
   "metadata": {
    "collapsed": true
   },
   "outputs": [],
   "source": []
  },
  {
   "cell_type": "markdown",
   "metadata": {},
   "source": [
    "### 4. Ranking flushes\n",
    "\n",
    "An interesting thing about the dataset is that it groups all flushes (Class = 5) together. But in fact, some flushes are higher than others, with Ace-high flushes (Rank = 1) being the highest.  \n",
    "\n",
    "Similar to the previous questions, I would like to see a ranked breakdown of flushes. The flushes should be in order from highest to lowest, and I would like to see the probabilities of each"
   ]
  },
  {
   "cell_type": "code",
   "execution_count": null,
   "metadata": {
    "collapsed": true
   },
   "outputs": [],
   "source": []
  },
  {
   "cell_type": "markdown",
   "metadata": {},
   "source": [
    "### 5. Inside straights\n",
    "\n",
    "Inside straights are the best kind of gift; you're sitting there with nothing and then suddenly, your last card elevates your hand to something much more fantastic. It's when your first 4 cards are unconnected, but your 5th card completes a 5-card straight. So for instance, if my current ranks are:\n",
    "\n",
    "2 3 4 5\n",
    "\n",
    "And I get a 6, that's not an inside straight. But if I have:\n",
    "\n",
    "2 3 5 6\n",
    "\n",
    "And I get a 4, that is. \n",
    "\n",
    "For this exercise, return to me a summary of inside vs. normal straights, including the probability that if I have a straight, it's of the given type. "
   ]
  },
  {
   "cell_type": "code",
   "execution_count": null,
   "metadata": {
    "collapsed": true
   },
   "outputs": [],
   "source": []
  },
  {
   "cell_type": "markdown",
   "metadata": {},
   "source": [
    "### 1. Creating new variables\n",
    "\n",
    "There are two things I very much dislike about how this dataset is currently laid out:\n",
    "\n",
    "1. The suits are numbers; I want to see actual suit names!\n",
    "2. Aces are \"1\", but Aces are high. And for that matter, Jack/Queen/King make more sense to me than 11/12/13. I want to change 1/11/12/13 to A/J/Q/K, respectively. \n",
    "\n",
    "For your first task, make these changes to the dataset (creating a new dataset) by creating new variables that satisfy my criteria."
   ]
  },
  {
   "cell_type": "markdown",
   "metadata": {},
   "source": [
    "## Sample Answers\n",
    "\n",
    "Keep in mind that there's always more than 1 way to do things; these are just examples that work and may differ from your answers\n",
    "\n",
    "### 1. Starting simple"
   ]
  },
  {
   "cell_type": "code",
   "execution_count": 48,
   "metadata": {
    "collapsed": false
   },
   "outputs": [
    {
     "data": {
      "text/html": [
       "<table>\n",
       "<thead><tr><th scope=col>Class.Name</th><th scope=col>percent</th></tr></thead>\n",
       "<tbody>\n",
       "\t<tr><td>Nothing        </td><td>49.95401655    </td></tr>\n",
       "\t<tr><td>Pair           </td><td>42.38074293    </td></tr>\n",
       "\t<tr><td>Two Pair       </td><td> 4.82226398    </td></tr>\n",
       "\t<tr><td>Three of a Kind</td><td> 2.05126155    </td></tr>\n",
       "\t<tr><td>Straight       </td><td> 0.37186613    </td></tr>\n",
       "\t<tr><td>Flush          </td><td> 0.21592227    </td></tr>\n",
       "\t<tr><td>Full House     </td><td> 0.14394818    </td></tr>\n",
       "\t<tr><td>Four of a Kind </td><td> 0.02399136    </td></tr>\n",
       "\t<tr><td>Straight Flush </td><td> 0.01999280    </td></tr>\n",
       "\t<tr><td>Royal Flush    </td><td> 0.01599424    </td></tr>\n",
       "</tbody>\n",
       "</table>\n"
      ],
      "text/latex": [
       "\\begin{tabular}{r|ll}\n",
       " Class.Name & percent\\\\\n",
       "\\hline\n",
       "\t Nothing         & 49.95401655    \\\\\n",
       "\t Pair            & 42.38074293    \\\\\n",
       "\t Two Pair        &  4.82226398    \\\\\n",
       "\t Three of a Kind &  2.05126155    \\\\\n",
       "\t Straight        &  0.37186613    \\\\\n",
       "\t Flush           &  0.21592227    \\\\\n",
       "\t Full House      &  0.14394818    \\\\\n",
       "\t Four of a Kind  &  0.02399136    \\\\\n",
       "\t Straight Flush  &  0.01999280    \\\\\n",
       "\t Royal Flush     &  0.01599424    \\\\\n",
       "\\end{tabular}\n"
      ],
      "text/markdown": [
       "\n",
       "Class.Name | percent | \n",
       "|---|---|---|---|---|---|---|---|---|---|\n",
       "| Nothing         | 49.95401655     | \n",
       "| Pair            | 42.38074293     | \n",
       "| Two Pair        |  4.82226398     | \n",
       "| Three of a Kind |  2.05126155     | \n",
       "| Straight        |  0.37186613     | \n",
       "| Flush           |  0.21592227     | \n",
       "| Full House      |  0.14394818     | \n",
       "| Four of a Kind  |  0.02399136     | \n",
       "| Straight Flush  |  0.01999280     | \n",
       "| Royal Flush     |  0.01599424     | \n",
       "\n",
       "\n"
      ],
      "text/plain": [
       "   Class.Name      percent    \n",
       "1  Nothing         49.95401655\n",
       "2  Pair            42.38074293\n",
       "3  Two Pair         4.82226398\n",
       "4  Three of a Kind  2.05126155\n",
       "5  Straight         0.37186613\n",
       "6  Flush            0.21592227\n",
       "7  Full House       0.14394818\n",
       "8  Four of a Kind   0.02399136\n",
       "9  Straight Flush   0.01999280\n",
       "10 Royal Flush      0.01599424"
      ]
     },
     "metadata": {},
     "output_type": "display_data"
    }
   ],
   "source": [
    "lut <- c(\"0\" = \"Nothing\", \"1\" = \"Pair\", \"2\" = \"Two Pair\",\n",
    "        \"3\" = \"Three of a Kind\", \"4\" = \"Straight\",\n",
    "        \"5\" = \"Flush\", \"6\" = \"Full House\",\n",
    "        \"7\" = \"Four of a Kind\", \"8\" = \"Straight Flush\",\n",
    "        \"9\" = \"Royal Flush\")\n",
    "\n",
    "poker.hands$Class.Name <- lut[as.character(poker.hands$Class)]\n",
    "\n",
    "poker.hands %>%\n",
    "mutate(p_hands = 100/n()) %>%\n",
    "group_by(Class.Name) %>%\n",
    "summarise(percent = sum(p_hands)) %>%\n",
    "arrange(desc(percent))"
   ]
  },
  {
   "cell_type": "markdown",
   "metadata": {},
   "source": [
    "### 2. Assessing Straight Flushes"
   ]
  },
  {
   "cell_type": "code",
   "execution_count": 23,
   "metadata": {
    "collapsed": false
   },
   "outputs": [
    {
     "data": {
      "text/html": [
       "<table>\n",
       "<thead><tr><th scope=col>sum(p_hands)</th></tr></thead>\n",
       "<tbody>\n",
       "\t<tr><td>0.03598704</td></tr>\n",
       "</tbody>\n",
       "</table>\n"
      ],
      "text/latex": [
       "\\begin{tabular}{r|l}\n",
       " sum(p\\_hands)\\\\\n",
       "\\hline\n",
       "\t 0.03598704\\\\\n",
       "\\end{tabular}\n"
      ],
      "text/markdown": [
       "\n",
       "sum(p_hands) | \n",
       "|---|\n",
       "| 0.03598704 | \n",
       "\n",
       "\n"
      ],
      "text/plain": [
       "  sum(p_hands)\n",
       "1 0.03598704  "
      ]
     },
     "metadata": {},
     "output_type": "display_data"
    }
   ],
   "source": [
    "poker.hands %>%\n",
    "mutate(is.sf = Class == 9 | Class == 8, p_hands = 100*is.sf/n()) %>%\n",
    "summarise(sum(p_hands))"
   ]
  },
  {
   "cell_type": "code",
   "execution_count": 24,
   "metadata": {
    "collapsed": false
   },
   "outputs": [
    {
     "data": {
      "text/html": [
       "<table>\n",
       "<thead><tr><th scope=col>Suit.1</th><th scope=col>sum</th></tr></thead>\n",
       "<tbody>\n",
       "\t<tr><td>1       </td><td>22.22222</td></tr>\n",
       "\t<tr><td>2       </td><td>22.22222</td></tr>\n",
       "\t<tr><td>3       </td><td>22.22222</td></tr>\n",
       "\t<tr><td>4       </td><td>33.33333</td></tr>\n",
       "</tbody>\n",
       "</table>\n"
      ],
      "text/latex": [
       "\\begin{tabular}{r|ll}\n",
       " Suit.1 & sum\\\\\n",
       "\\hline\n",
       "\t 1        & 22.22222\\\\\n",
       "\t 2        & 22.22222\\\\\n",
       "\t 3        & 22.22222\\\\\n",
       "\t 4        & 33.33333\\\\\n",
       "\\end{tabular}\n"
      ],
      "text/markdown": [
       "\n",
       "Suit.1 | sum | \n",
       "|---|---|---|---|\n",
       "| 1        | 22.22222 | \n",
       "| 2        | 22.22222 | \n",
       "| 3        | 22.22222 | \n",
       "| 4        | 33.33333 | \n",
       "\n",
       "\n"
      ],
      "text/plain": [
       "  Suit.1 sum     \n",
       "1 1      22.22222\n",
       "2 2      22.22222\n",
       "3 3      22.22222\n",
       "4 4      33.33333"
      ]
     },
     "metadata": {},
     "output_type": "display_data"
    }
   ],
   "source": [
    "poker.hands %>% \n",
    "filter(Class == 9 | Class == 8) %>%\n",
    "mutate(p_rf = 100*1/n()) %>%\n",
    "group_by(Suit.1) %>%\n",
    "summarise(sum = sum(p_rf))"
   ]
  },
  {
   "cell_type": "markdown",
   "metadata": {},
   "source": [
    "Looks like straight flushes occur 0.036% of the time. 22.2% of these are in Suits 1, 2, and 3, respectively, and 33.3% of them are in Suit 4. "
   ]
  },
  {
   "cell_type": "markdown",
   "metadata": {},
   "source": [
    "### 3. Stuck on a pair"
   ]
  },
  {
   "cell_type": "code",
   "execution_count": 26,
   "metadata": {
    "collapsed": false
   },
   "outputs": [
    {
     "data": {
      "text/html": [
       "<table>\n",
       "<thead><tr><th scope=col>total_percent</th></tr></thead>\n",
       "<tbody>\n",
       "\t<tr><td>72.06823</td></tr>\n",
       "</tbody>\n",
       "</table>\n"
      ],
      "text/latex": [
       "\\begin{tabular}{r|l}\n",
       " total\\_percent\\\\\n",
       "\\hline\n",
       "\t 72.06823\\\\\n",
       "\\end{tabular}\n"
      ],
      "text/markdown": [
       "\n",
       "total_percent | \n",
       "|---|\n",
       "| 72.06823 | \n",
       "\n",
       "\n"
      ],
      "text/plain": [
       "  total_percent\n",
       "1 72.06823     "
      ]
     },
     "metadata": {},
     "output_type": "display_data"
    }
   ],
   "source": [
    "poker.hands %>%\n",
    "filter(Rank.1 == Rank.2) %>%\n",
    "mutate(is.pair = Class == 1, p_hands = 100*is.pair/n()) %>%\n",
    "filter(Class == 1) %>%\n",
    "summarise(total_percent = sum(p_hands))"
   ]
  },
  {
   "cell_type": "code",
   "execution_count": 35,
   "metadata": {
    "collapsed": false
   },
   "outputs": [
    {
     "data": {
      "text/html": [
       "<table>\n",
       "<thead><tr><th scope=col>Class</th><th scope=col>occurences</th><th scope=col>probs</th></tr></thead>\n",
       "<tbody>\n",
       "\t<tr><td>7          </td><td>   5       </td><td>0.003553660</td></tr>\n",
       "\t<tr><td>6          </td><td>  14       </td><td>0.009950249</td></tr>\n",
       "\t<tr><td>3          </td><td> 149       </td><td>0.105899076</td></tr>\n",
       "\t<tr><td>2          </td><td> 225       </td><td>0.159914712</td></tr>\n",
       "\t<tr><td>1          </td><td>1014       </td><td>0.720682303</td></tr>\n",
       "</tbody>\n",
       "</table>\n"
      ],
      "text/latex": [
       "\\begin{tabular}{r|lll}\n",
       " Class & occurences & probs\\\\\n",
       "\\hline\n",
       "\t 7           &    5        & 0.003553660\\\\\n",
       "\t 6           &   14        & 0.009950249\\\\\n",
       "\t 3           &  149        & 0.105899076\\\\\n",
       "\t 2           &  225        & 0.159914712\\\\\n",
       "\t 1           & 1014        & 0.720682303\\\\\n",
       "\\end{tabular}\n"
      ],
      "text/markdown": [
       "\n",
       "Class | occurences | probs | \n",
       "|---|---|---|---|---|\n",
       "| 7           |    5        | 0.003553660 | \n",
       "| 6           |   14        | 0.009950249 | \n",
       "| 3           |  149        | 0.105899076 | \n",
       "| 2           |  225        | 0.159914712 | \n",
       "| 1           | 1014        | 0.720682303 | \n",
       "\n",
       "\n"
      ],
      "text/plain": [
       "  Class occurences probs      \n",
       "1 7        5       0.003553660\n",
       "2 6       14       0.009950249\n",
       "3 3      149       0.105899076\n",
       "4 2      225       0.159914712\n",
       "5 1     1014       0.720682303"
      ]
     },
     "metadata": {},
     "output_type": "display_data"
    }
   ],
   "source": [
    "poker.hands %>%\n",
    "filter(Rank.1 == Rank.2) %>%\n",
    "mutate(probs = 1/n()) %>%\n",
    "group_by(Class) %>%\n",
    "summarise(occurences = n(), probs = sum(probs)) %>%\n",
    "arrange(probs)"
   ]
  },
  {
   "cell_type": "markdown",
   "metadata": {},
   "source": [
    "No wonder I feel like the world has it out for me; I only get better than a pair about 28% of the time. "
   ]
  },
  {
   "cell_type": "markdown",
   "metadata": {},
   "source": [
    "### 4. Ranking Flushes"
   ]
  },
  {
   "cell_type": "code",
   "execution_count": null,
   "metadata": {
    "collapsed": true
   },
   "outputs": [],
   "source": []
  },
  {
   "cell_type": "markdown",
   "metadata": {},
   "source": [
    "### 5. Inside Straights"
   ]
  },
  {
   "cell_type": "code",
   "execution_count": null,
   "metadata": {
    "collapsed": true
   },
   "outputs": [],
   "source": []
  },
  {
   "cell_type": "code",
   "execution_count": 42,
   "metadata": {
    "collapsed": true
   },
   "outputs": [],
   "source": [
    "lut <- c(\"0\" = \"Nothing\", \"1\" = \"Pair\", \"2\" = \"Two Pair\",\n",
    "        \"3\" = \"Three of a Kind\", \"4\" = \"Straight\",\n",
    "        \"5\" = \"Flush\", \"6\" = \"Full House\",\n",
    "        \"7\" = \"Four of a Kind\", \"8\" = \"Straight Flush\",\n",
    "        \"9\" = \"Royal Flush\")\n"
   ]
  },
  {
   "cell_type": "code",
   "execution_count": 43,
   "metadata": {
    "collapsed": false
   },
   "outputs": [
    {
     "data": {
      "text/html": [
       "<dl class=dl-horizontal>\n",
       "\t<dt>0</dt>\n",
       "\t\t<dd>'Nothing'</dd>\n",
       "\t<dt>1</dt>\n",
       "\t\t<dd>'Pair'</dd>\n",
       "\t<dt>2</dt>\n",
       "\t\t<dd>'Two Pair'</dd>\n",
       "\t<dt>3</dt>\n",
       "\t\t<dd>'Three of a Kind'</dd>\n",
       "\t<dt>4</dt>\n",
       "\t\t<dd>'Straight'</dd>\n",
       "\t<dt>5</dt>\n",
       "\t\t<dd>'Flush'</dd>\n",
       "\t<dt>6</dt>\n",
       "\t\t<dd>'Full House'</dd>\n",
       "\t<dt>7</dt>\n",
       "\t\t<dd>'Four of a Kind'</dd>\n",
       "\t<dt>8</dt>\n",
       "\t\t<dd>'Straight Flush'</dd>\n",
       "\t<dt>9</dt>\n",
       "\t\t<dd>'Royal Flush'</dd>\n",
       "</dl>\n"
      ],
      "text/latex": [
       "\\begin{description*}\n",
       "\\item[0] 'Nothing'\n",
       "\\item[1] 'Pair'\n",
       "\\item[2] 'Two Pair'\n",
       "\\item[3] 'Three of a Kind'\n",
       "\\item[4] 'Straight'\n",
       "\\item[5] 'Flush'\n",
       "\\item[6] 'Full House'\n",
       "\\item[7] 'Four of a Kind'\n",
       "\\item[8] 'Straight Flush'\n",
       "\\item[9] 'Royal Flush'\n",
       "\\end{description*}\n"
      ],
      "text/markdown": [
       "0\n",
       ":   'Nothing'1\n",
       ":   'Pair'2\n",
       ":   'Two Pair'3\n",
       ":   'Three of a Kind'4\n",
       ":   'Straight'5\n",
       ":   'Flush'6\n",
       ":   'Full House'7\n",
       ":   'Four of a Kind'8\n",
       ":   'Straight Flush'9\n",
       ":   'Royal Flush'\n",
       "\n"
      ],
      "text/plain": [
       "                0                 1                 2                 3 \n",
       "        \"Nothing\"            \"Pair\"        \"Two Pair\" \"Three of a Kind\" \n",
       "                4                 5                 6                 7 \n",
       "       \"Straight\"           \"Flush\"      \"Full House\"  \"Four of a Kind\" \n",
       "                8                 9 \n",
       " \"Straight Flush\"     \"Royal Flush\" "
      ]
     },
     "metadata": {},
     "output_type": "display_data"
    }
   ],
   "source": [
    "lut"
   ]
  },
  {
   "cell_type": "code",
   "execution_count": null,
   "metadata": {
    "collapsed": true
   },
   "outputs": [],
   "source": []
  }
 ],
 "metadata": {
  "anaconda-cloud": {},
  "kernelspec": {
   "display_name": "R",
   "language": "R",
   "name": "ir"
  },
  "language_info": {
   "codemirror_mode": "r",
   "file_extension": ".r",
   "mimetype": "text/x-r-source",
   "name": "R",
   "pygments_lexer": "r",
   "version": "3.3.3"
  }
 },
 "nbformat": 4,
 "nbformat_minor": 0
}
